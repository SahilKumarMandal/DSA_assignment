{
 "cells": [
  {
   "cell_type": "markdown",
   "metadata": {},
   "source": [
    "**Problem 1.** Given an array of n numbers, given an algorithm which gives the element appearing maximum number of times?\n",
    "\n",
    "**Solution:**"
   ]
  },
  {
   "cell_type": "code",
   "execution_count": 18,
   "metadata": {},
   "outputs": [
    {
     "data": {
      "text/plain": [
       "2"
      ]
     },
     "execution_count": 18,
     "metadata": {},
     "output_type": "execute_result"
    }
   ],
   "source": [
    "# Time complexity: O(n^2), where 'n' is the size of the input array.\n",
    "# Space complexity: O(1), only constant additional space is used.\n",
    "\n",
    "def insertionSort(nums):\n",
    "    # Perform insertion sort of the input array.\n",
    "    for i in range(1, len(nums)):\n",
    "        v = nums[i]\n",
    "        j = i\n",
    "        while j >= 1 and nums[j-1] > v:\n",
    "            nums[j] = nums[j-1]\n",
    "            j -= 1\n",
    "        nums[j] = v\n",
    "    return nums\n",
    "\n",
    "def element_with_maxOccur(nums):\n",
    "    # Sort the input array using insertion sort.\n",
    "    insertionSort(nums)\n",
    "\n",
    "    # Initialize variables to track the maximum frequency and the corresponding element\n",
    "    count = 1\n",
    "    max_freq = 0\n",
    "\n",
    "    # Iterated through the sorted array to find the element with the maximum occurence frequency.\n",
    "    for i in range(1, len(nums)):\n",
    "        if nums[i] == nums[i-1]:\n",
    "            count += 1\n",
    "        if max_freq < count:\n",
    "            max_freq = count\n",
    "            max_freq_val = nums[i]\n",
    "        if nums[i] != nums[i-1]:\n",
    "            count = 1\n",
    "    \n",
    "    # Return the element with the maximum occurrence frequency.\n",
    "    return max_freq_val\n",
    "\n",
    "# Driver code\n",
    "element_with_maxOccur([1, 2, 1, 1, 3, 2, 2, 2]) "
   ]
  },
  {
   "cell_type": "markdown",
   "metadata": {},
   "source": [
    "**Problem 2.** We are given a list of n-1 integers and these integers are in the range of 1 to n. There are no duplicates in the list. One of the integers is missing in the list. Give an algortihm to find that element Ex: [1, 2, 4, 6, 3, 7, 8] 5 is the missing num."
   ]
  },
  {
   "cell_type": "markdown",
   "metadata": {},
   "source": [
    "**Solution 2:**"
   ]
  },
  {
   "cell_type": "code",
   "execution_count": 16,
   "metadata": {},
   "outputs": [
    {
     "name": "stdout",
     "output_type": "stream",
     "text": [
      "Missing value: 6\n"
     ]
    }
   ],
   "source": [
    "# Time complexity: O(n), where 'n' is the size of the input array.\n",
    "# Space complexity: O(1), only constant additional space is used.\n",
    "\n",
    "def search_missing_num(arr):\n",
    "    if not arr:\n",
    "        raise ValueError(\"List cannot be empty.\")\n",
    "    \n",
    "    n = max(arr)    # find the expected maximum value.\n",
    "    actual_sum = sum(arr)   # Calculate the actual sum of the elements.\n",
    "    expected_sum = n*(n+1)//2   # Calculate the expected sum using the formula\n",
    "    missing_num = expected_sum - actual_sum     # Find the difference (the missing number)\n",
    "\n",
    "    return None if missing_num == 0 else missing_num    # Return the satisfied result\n",
    "\n",
    "# Driver code\n",
    "nums = [1, 2, 4, 3, 5, 7]\n",
    "missing_val = search_missing_num(nums)\n",
    "print(\"Missing value:\", missing_val)"
   ]
  },
  {
   "cell_type": "markdown",
   "metadata": {},
   "source": [
    "**Problem 3.** Given an array of n positive integers. All number occurs even number of times except 1 which occur odd number of times. find that number in O(n) time and O(1) space. Ex: [1, 2, 3, 2, 3, 1, 3]. 3 is repeat odd times."
   ]
  },
  {
   "cell_type": "markdown",
   "metadata": {},
   "source": [
    "**Solution 3:**"
   ]
  },
  {
   "cell_type": "code",
   "execution_count": 25,
   "metadata": {},
   "outputs": [
    {
     "name": "stdout",
     "output_type": "stream",
     "text": [
      "Result: 1\n"
     ]
    }
   ],
   "source": [
    "# Time complexity: O(n), where 'n' is the size of the input array.\n",
    "# Space complexity: O(1), only constant additional space is used.\n",
    "\n",
    "def find_odd_recurrence(arr):\n",
    "    # Initialize the result variable to store the element with odd occurrences.\n",
    "    result = 0\n",
    "    \n",
    "    # Iterate through the array and perform XOR operation with each element.\n",
    "    # XOR operation cancels out pairs of the same elements, leaving the odd-occurring element.\n",
    "    for num in arr:\n",
    "        result ^= num\n",
    "    \n",
    "    return result\n",
    "\n",
    "# Test the function\n",
    "given_arr = [1, 2, 3, 2, 2, 1, 3, 3, 3, 2, 1]\n",
    "result = find_odd_recurrence(given_arr)\n",
    "print(\"Result:\", result)"
   ]
  },
  {
   "cell_type": "markdown",
   "metadata": {},
   "source": [
    "**Problem 4.** Given an array of n elements. find two elements in the array such that given sum is equal to given element k."
   ]
  },
  {
   "cell_type": "markdown",
   "metadata": {},
   "source": [
    "**Solution 4:**"
   ]
  },
  {
   "cell_type": "code",
   "execution_count": 18,
   "metadata": {},
   "outputs": [
    {
     "name": "stdout",
     "output_type": "stream",
     "text": [
      "Pair with sum 11 found: (6, 5)\n"
     ]
    }
   ],
   "source": [
    "# Time complexity: O(n), where 'n' is the size of the input array.\n",
    "# Space complexity: O(n), where 'n' is the size of the input array.\n",
    "\n",
    "def find_pair_with_sum(arr, k):\n",
    "    # If arr size is less than 2, not able to make pair\n",
    "    if len(arr) < 2:\n",
    "        return None\n",
    "    \n",
    "    # Create a set to store seen elements.\n",
    "    seen_elements = set()\n",
    "\n",
    "    # Iterate through the array.\n",
    "    for num in arr:\n",
    "        # Calculate the complement required to achieve the target sum\n",
    "        complement = k - num\n",
    "\n",
    "        # If the complement is found in the seen elements, return the pair.\n",
    "        if complement in seen_elements:\n",
    "            return num, complement  # Pair found\n",
    "        \n",
    "        # Add the current number to the seen elements set.\n",
    "        seen_elements.add(num)  \n",
    "\n",
    "    # If no pair if found, return None.    \n",
    "    return None\n",
    "\n",
    "# Driver code\n",
    "nums = [1, 4, 2, 5, 6]\n",
    "target_sum = 11\n",
    "result = find_pair_with_sum(nums, target_sum)\n",
    "\n",
    "# Check if a pair is found and print the result accordingly\n",
    "if result:\n",
    "    print(\"Pair with sum {} found: {}\".format(target_sum, result))\n",
    "else:\n",
    "    print(\"No pair found with sum {}.\".format(target_sum))"
   ]
  },
  {
   "cell_type": "markdown",
   "metadata": {},
   "source": [
    "**Problem 5.** Given an array of both positive and negative numbers, find two numbers such that their sum if closest to 0. Ex: [1, 60, -10, 70, -80, 85]. Ans: -80, 85."
   ]
  },
  {
   "cell_type": "markdown",
   "metadata": {},
   "source": [
    "**Solution 5:**"
   ]
  },
  {
   "cell_type": "code",
   "execution_count": 21,
   "metadata": {},
   "outputs": [
    {
     "data": {
      "text/plain": [
       "(1, 2)"
      ]
     },
     "execution_count": 21,
     "metadata": {},
     "output_type": "execute_result"
    }
   ],
   "source": [
    "# Time complexity: O(n^2), where 'n' is the size of the input array.\n",
    "# Space complexity: O(1), only constant additional space is used.\n",
    "\n",
    "def selectionSort(nums):\n",
    "    # Sort the input array using the selection sort algorithm.\n",
    "    n = len(nums)\n",
    "    for i in range(n):\n",
    "        min_index = i\n",
    "        issorted = True\n",
    "        for j in range(i + 1, n):\n",
    "            if nums[min_index] > nums[j]:\n",
    "                issorted = False\n",
    "                min_index = j\n",
    "        if issorted:\n",
    "            return nums\n",
    "        nums[i], nums[min_index] = nums[min_index], nums[i]\n",
    "    return nums\n",
    "\n",
    "def closest_to_zero_pair(nums):\n",
    "    # if nums size is less than 2, not able to make pair\n",
    "    if len(nums) < 2:\n",
    "        return None\n",
    "    \n",
    "    # Sort the input array using selection sort.\n",
    "    selectionSort(nums)\n",
    "    \n",
    "    # Initialize pointers for left and right elements.\n",
    "    left, right = 0, len(nums) - 1\n",
    "    \n",
    "    # Initialize variables to track the closest pair and its sum.\n",
    "    min_sum = float('inf')\n",
    "    closest_pair = None\n",
    "\n",
    "    # Iterate through the sorted array using two pointers.\n",
    "    while left < right:\n",
    "        # Calculate the sum of the current pair.\n",
    "        current_sum = nums[left] + nums[right]\n",
    "        \n",
    "        # Update the closest pair if the current sum is closer to zero.\n",
    "        if abs(current_sum) < abs(min_sum):\n",
    "            min_sum = current_sum\n",
    "            closest_pair = (nums[left], nums[right])\n",
    "        \n",
    "        # Move the pointers based on the comparison with zero.\n",
    "        if current_sum < 0:\n",
    "            left += 1\n",
    "        elif current_sum > 0:\n",
    "            right -= 1\n",
    "        else:\n",
    "            return closest_pair\n",
    "\n",
    "    return closest_pair\n",
    "\n",
    "# Example usage\n",
    "closest_to_zero_pair([1, 2, 3, 4, 5])"
   ]
  },
  {
   "cell_type": "markdown",
   "metadata": {},
   "source": [
    "**Problem 6.** Given an array of n elements. Find three elements such that their sum is equal to the given number"
   ]
  },
  {
   "cell_type": "markdown",
   "metadata": {},
   "source": [
    "**Solution 6:**"
   ]
  },
  {
   "cell_type": "code",
   "execution_count": 2,
   "metadata": {},
   "outputs": [
    {
     "name": "stdout",
     "output_type": "stream",
     "text": [
      "(1, 3, 6)\n"
     ]
    }
   ],
   "source": [
    "# Time complexity: O(n^2), where 'n' is the size of the input array.\n",
    "# Space complexity: O(n), where 'n' is the size of the input array.\n",
    "\n",
    "def insertionSort(arr):\n",
    "    # Implementation of the insertion sort algorithm to sort the array.\n",
    "    for i in range(1, len(arr)):\n",
    "        v = arr[i]\n",
    "        j = i\n",
    "        while j >= 1 and arr[j-1] > v:\n",
    "            arr[j] = arr[j-1]\n",
    "            j -= 1\n",
    "        arr[j] = v\n",
    "    return arr\n",
    "\n",
    "def find_triplet_with_sum(nums, target):\n",
    "    # Sort the input array using insertion sort.\n",
    "    insertionSort(nums)\n",
    "    \n",
    "    n = len(nums)\n",
    "    \n",
    "    # Iterate through the array to find the triplet.\n",
    "    for i in range(n-2):\n",
    "        left = i+1\n",
    "        right = n-1\n",
    "        while left < right:\n",
    "            current_sum = nums[i] + nums[left] + nums[right]\n",
    "            if current_sum == target:\n",
    "                return nums[i], nums[left], nums[right]  # Triplet found\n",
    "            elif current_sum > target:\n",
    "                right -= 1\n",
    "            else:\n",
    "                left += 1\n",
    "    return None  # Triplet not found\n",
    "\n",
    "# Driver code\n",
    "triplet = find_triplet_with_sum([1, 5, 4, 2, 3, 6], 10)\n",
    "print(triplet)\n"
   ]
  },
  {
   "cell_type": "markdown",
   "metadata": {},
   "source": [
    "**Problem 7.** Given an array of n elements. Find three elements i, j, k in the array such that (i * i + j * j = k * k)"
   ]
  },
  {
   "cell_type": "markdown",
   "metadata": {},
   "source": [
    "**Solution 7:**"
   ]
  },
  {
   "cell_type": "code",
   "execution_count": 21,
   "metadata": {},
   "outputs": [
    {
     "name": "stdout",
     "output_type": "stream",
     "text": [
      "The Pythagorean triplet is: (3, 4, 5)\n"
     ]
    }
   ],
   "source": [
    "# Time complexity: O(n^2), where 'n' is the size of the input array.\n",
    "# Space complexity: O(n), where 'n' is the size of the input array.\n",
    "\n",
    "def find_pythagorean_triplet(arr):\n",
    "    # Create a set containing squares of each element in the input array.\n",
    "    squared_nums = {num**2 for num in arr}\n",
    "    \n",
    "    # Iterate through pairs of elements in the array.\n",
    "    for i in range(0, len(arr)):\n",
    "        for j in range(i + 1, len(arr)):\n",
    "            # Calculate the square of the sum of the elements at indices i and j.\n",
    "            sq_sum = arr[i]**2 + arr[j]**2\n",
    "            \n",
    "            # If the square of the sum exists in the set, it means a Pythagorean triplet is found.\n",
    "            if sq_sum in squared_nums:\n",
    "                # Return the triplet (a, b, c) where a, b are elements at indices i and j,\n",
    "                # and c is the square root of sq_sum.\n",
    "                return arr[i], arr[j], int(sq_sum**0.5)\n",
    "    \n",
    "    # If no Pythagorean triplet is found, return None.\n",
    "    return None \n",
    "\n",
    "# Driver code\n",
    "nums = [1, 2, 3, 4, 5]\n",
    "result = find_pythagorean_triplet(nums)\n",
    "print(\"The Pythagorean triplet is: {}\".format(result))\n"
   ]
  },
  {
   "cell_type": "markdown",
   "metadata": {},
   "source": [
    "**Problem 8.** An element is a majority if it appears more than n/2 times. Give an algorithm takes an array of n element as argument and identifies a majority (if it exists).\n",
    "\n",
    "**Solution 8:**"
   ]
  },
  {
   "cell_type": "code",
   "execution_count": 6,
   "metadata": {},
   "outputs": [
    {
     "name": "stdout",
     "output_type": "stream",
     "text": [
      "Element which is in majority is: 1\n"
     ]
    }
   ],
   "source": [
    "# Time complexity: O(n^2), where 'n' is the size of the input array.\n",
    "# Space complexity: O(1), only constant additional space is used.\n",
    "\n",
    "def insertionSort(nums):\n",
    "    # Perform insertion sort on the input array.\n",
    "    for i in range(1, len(nums)):\n",
    "        v = nums[i]\n",
    "        j = i\n",
    "        while j >=1 and nums[j-1] > v:\n",
    "            nums[j] = nums[j-1]\n",
    "            j -= 1\n",
    "        nums[j] = v\n",
    "    return nums\n",
    "\n",
    "def find_majority(arr):\n",
    "    # Sort the input array using insertion sort.\n",
    "    insertionSort(arr)\n",
    "    \n",
    "    # Initialize variables to track the count of elements.\n",
    "    count = 1\n",
    "    \n",
    "    # Iterate through the sorted array to find the majority element.\n",
    "    for i in range(1, len(arr)):\n",
    "        if arr[i] == arr[i-1]:\n",
    "            count += 1\n",
    "        if count > len(arr) / 2:\n",
    "            return arr[i]\n",
    "        if arr[i] != arr[i-1]:\n",
    "            count = 1\n",
    "    \n",
    "    # If no majority element is found, return None.\n",
    "    return None\n",
    "\n",
    "# Driver code\n",
    "result = find_majority([2, 1, 1, 1, 2])\n",
    "print(f\"Element which is in majority is: {result}\")"
   ]
  },
  {
   "cell_type": "markdown",
   "metadata": {},
   "source": [
    "**Problem 9:** Given n x n matrix, and in each row all 1's are followed by 0's. Find the row with the maximum number of 0's.\n",
    "\n",
    "**Solution :**"
   ]
  },
  {
   "cell_type": "code",
   "execution_count": 4,
   "metadata": {},
   "outputs": [
    {
     "name": "stdout",
     "output_type": "stream",
     "text": [
      "Row with max zeros: 1\n"
     ]
    }
   ],
   "source": [
    "# Time complexity: O(m * n), where 'm' is the number of rows and 'n' is the number of columns in the matrix.\n",
    "# Space complexity: O(1), only constant additional space is used.\n",
    "\n",
    "def countZeros(arr):\n",
    "    # Function to count the number of zeros in a given array.\n",
    "    if not arr:\n",
    "        return None  # If the array is empty, return None.\n",
    "    \n",
    "    n = len(arr)\n",
    "    count, left, right = 0, 0, n-1\n",
    "    while left < right:\n",
    "        # Iterate through the array from both ends towards the middle.\n",
    "        if arr[left] == arr[right] == 0:\n",
    "            # If both elements at left and right pointers are zero, increment count by 2.\n",
    "            count += 2\n",
    "        elif arr[left] != arr[right]:\n",
    "            # If elements at left and right pointers are different, increment count by 1.\n",
    "            count += 1\n",
    "        left += 1\n",
    "        right -= 1\n",
    "    \n",
    "    # Add 1 to count if the array length is odd and the middle element is zero.\n",
    "    return count + 1 if (n % 2 != 0 and arr[n//2] == 0) else count\n",
    "\n",
    "def row_with_maxZeros(matrix):\n",
    "    # Function to find the row with the maximum number of zeros in the matrix.\n",
    "    if not matrix or not matrix[0]:\n",
    "        # If the matrix is empty or has no columns, return None.\n",
    "        return None\n",
    "    \n",
    "    max_zeros = float('-inf')  # Initialize the maximum zeros count to negative infinity.\n",
    "    max_zeros_row_index = None  # Initialize the index of the row with maximum zeros.\n",
    "    \n",
    "    for i, row in enumerate(matrix):\n",
    "        # Iterate through each row of the matrix.\n",
    "        zeros_count = countZeros(row)  # Count zeros in the current row.\n",
    "        if zeros_count > max_zeros:\n",
    "            # If the count of zeros in the current row is greater than the current maximum,\n",
    "            # update the maximum zeros count and the index of the row.\n",
    "            max_zeros = zeros_count\n",
    "            max_zeros_row_index = i\n",
    "    \n",
    "    return max_zeros_row_index  # Return the index of the row with the maximum number of zeros.\n",
    "\n",
    "# Driver code\n",
    "given_matrix = [[1, 0, 0, 0], [0, 0, 0, 0], [1, 1, 0, 1], [0, 0, 1, 0]]\n",
    "result = row_with_maxZeros(given_matrix)\n",
    "print(\"Row with max zeros:\", result)\n"
   ]
  },
  {
   "cell_type": "markdown",
   "metadata": {},
   "source": [
    "**Problem 10:** Sort an arrays of 0's, 1's and 2's [or R's, G's and B's]: Given an array A[] consisting of 0's, 1's and 2's, give an algorithm for sorting A[]. The algortihm should put all 0's first, then all 1's and finally all 2's at the end. Example input = {0, 1, 1, 0, 1, 2, 1, 2, 0, 0, 0, 1}, output = {0, 0, 0, 0, 0, 1, 1, 1, 1, 1, 2, 2}\n",
    "\n",
    "**Solution :**"
   ]
  },
  {
   "cell_type": "code",
   "execution_count": 23,
   "metadata": {},
   "outputs": [
    {
     "name": "stdout",
     "output_type": "stream",
     "text": [
      "[0, 0, 1, 1, 1, 2, 2, 2]\n"
     ]
    }
   ],
   "source": [
    "# Time complexity: O(n), where 'n' is the size of the input array.\n",
    "# Space complexity: O(1), only constant additional space is used.\n",
    "\n",
    "def sortColors(nums):\n",
    "    # Initialize three pointers: left, mid, and right.\n",
    "    left, mid, right = 0, 0, len(nums) - 1\n",
    "    \n",
    "    # Traverse the array until mid pointer meets or crosses the right pointer.\n",
    "    while mid <= right:\n",
    "        if nums[mid] == 0:\n",
    "            # If the current element is 0, swap it with the element at the left pointer.\n",
    "            nums[mid], nums[left] = nums[left], nums[mid]\n",
    "            # Move both mid and left pointers to the right.\n",
    "            mid += 1\n",
    "            left += 1\n",
    "        elif nums[mid] == 2:\n",
    "            # If the current element is 2, swap it with the element at the right pointer.\n",
    "            nums[mid], nums[right] = nums[right], nums[mid]\n",
    "            # Move the right pointer to the left.\n",
    "            right -= 1\n",
    "        else:\n",
    "            # If the current element is 1, move the mid pointer to the right.\n",
    "            mid += 1\n",
    "            \n",
    "    return nums\n",
    "\n",
    "# Test the function\n",
    "sorted_nums = sortColors([1, 2, 0, 2, 1, 1, 0, 2])\n",
    "print(sorted_nums)"
   ]
  }
 ],
 "metadata": {
  "kernelspec": {
   "display_name": "Python 3",
   "language": "python",
   "name": "python3"
  },
  "language_info": {
   "codemirror_mode": {
    "name": "ipython",
    "version": 3
   },
   "file_extension": ".py",
   "mimetype": "text/x-python",
   "name": "python",
   "nbconvert_exporter": "python",
   "pygments_lexer": "ipython3",
   "version": "3.11.5"
  }
 },
 "nbformat": 4,
 "nbformat_minor": 2
}
