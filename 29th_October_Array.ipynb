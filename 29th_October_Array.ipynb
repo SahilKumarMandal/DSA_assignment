{
 "cells": [
  {
   "cell_type": "markdown",
   "metadata": {},
   "source": [
    "**Q1.** Give an array, check if it contains any duplicates or not.\n",
    "\n",
    "arr = [1, 2, 4, 2, 5, 9]\n",
    "\n",
    "output = True"
   ]
  },
  {
   "cell_type": "markdown",
   "metadata": {},
   "source": [
    "**Solution 1:**"
   ]
  },
  {
   "cell_type": "code",
   "execution_count": 60,
   "metadata": {},
   "outputs": [
    {
     "name": "stdout",
     "output_type": "stream",
     "text": [
      "True\n"
     ]
    }
   ],
   "source": [
    "# Time complexity: O(n), where 'n' is the size of the input array.\n",
    "# Space complexity: O(1), only constant additional space is used.\n",
    "\n",
    "def bubbleSort(nums):\n",
    "    # Function to sort the array using Bubble Sort algorithm.\n",
    "    n = len(nums)\n",
    "    if n <= 1:\n",
    "        return nums  # If the array has 0 or 1 element, it's already sorted, so return.\n",
    "    \n",
    "    for i in range(n-1, 0, -1):\n",
    "        isSorted = True  # Flag to check if the array is already sorted\n",
    "        for j in range(i):\n",
    "            if nums[j] > nums[j+1]:\n",
    "                isSorted = False  # If adjacent elements are not in order, mark the array as not sorted.\n",
    "                nums[j], nums[j+1] = nums[j+1], nums[j]  # Swap the elements to sort them.\n",
    "        if isSorted:\n",
    "            return nums  # If the array is already sorted after a pass, return it.\n",
    "    \n",
    "    return nums  # Return the sorted array.\n",
    "\n",
    "def has_duplicates(nums):\n",
    "    # Function to check if there are any duplicate elements in the array.\n",
    "    bubbleSort(nums)  # Sort the array.\n",
    "    n = len(nums)\n",
    "    if n <= 1:\n",
    "        return False  # If the array has 0 or 1 element, there are no duplicates.\n",
    "    for i in range(1, n):\n",
    "        if nums[i] == nums[i-1]:\n",
    "            return True  # If adjacent elements are equal, there are duplicates.\n",
    "    return False  # If no duplicates are found, return False.\n",
    "\n",
    "# Driver code\n",
    "result = has_duplicates([1, 5, 2, 1, 3, 4])  # Example usage\n",
    "print(result)  # Output the result (True if duplicates exist, False otherwise)"
   ]
  },
  {
   "cell_type": "markdown",
   "metadata": {},
   "source": [
    "**Q2.** Given an array and an integer k, rotate the array to the right by k steps.\n",
    "\n",
    "arr = [1, 2, 3, 4, 5, 6, 7] k = 3\n",
    "\n",
    "output = [5, 6, 7, 1, 2, 3, 4]"
   ]
  },
  {
   "cell_type": "markdown",
   "metadata": {},
   "source": [
    "**Solution 2.**"
   ]
  },
  {
   "cell_type": "code",
   "execution_count": 61,
   "metadata": {},
   "outputs": [
    {
     "name": "stdout",
     "output_type": "stream",
     "text": [
      "[4, 5, 1, 2, 3]\n"
     ]
    }
   ],
   "source": [
    "# Time complexity: O(n), where 'n' is the size of the input array.\n",
    "# Space complexity: O(1), only constant additional space is used.\n",
    "\n",
    "def reverse_arr(nums, start=0, end=None):\n",
    "    # Function to reverse a portion of the array between start and end indices.\n",
    "    n = len(nums)\n",
    "    if n <= 1:\n",
    "        return nums  # If the array has 0 or 1 element, it's already reversed.\n",
    "    if end is None:\n",
    "        end = n - 1\n",
    "    if start < 0 or end > n - 1:\n",
    "        raise IndexError(\"Error: Index out of range.\")\n",
    "    while start < end:\n",
    "        nums[start], nums[end] = nums[end], nums[start]  # Swap elements to reverse the array portion.\n",
    "        start += 1\n",
    "        end -= 1\n",
    "    return nums  # Return the reversed array.\n",
    "\n",
    "def rotate_array(nums, k):\n",
    "    # Function to rotate the array to the right by k steps.\n",
    "    n = len(nums)\n",
    "    if n <= 1:\n",
    "        return nums  # If the array has 0 or 1 element, no rotation needed.\n",
    "    k = k % n  # Adjust k to be within the range of array length.\n",
    "    reverse_arr(nums)  # Reverse the entire array.\n",
    "    reverse_arr(nums, 0, n - k - 1)  # Reverse the first portion up to n - k - 1.\n",
    "    reverse_arr(nums, n - k, n - 1)  # Reverse the remaining portion from n - k to the end.\n",
    "    return nums  # Return the rotated array.\n",
    "\n",
    "# Driver code\n",
    "given_nums = [1, 2, 3, 4, 5]  # Example array\n",
    "k = 3  # Number of steps to rotate\n",
    "result = rotate_array(given_nums, k)  # Rotate the array\n",
    "print(result)  # Output the rotated array"
   ]
  },
  {
   "cell_type": "markdown",
   "metadata": {},
   "source": [
    "**Q3.** Reverse the given array in-place, means without using any extra data structure.\n",
    "\n",
    "arr = [2, 4, 5, 7, 9, 12]\n",
    "\n",
    "output = [12, 9, 7, 5, 4, 2]"
   ]
  },
  {
   "cell_type": "markdown",
   "metadata": {},
   "source": [
    "**Solution 3.**"
   ]
  },
  {
   "cell_type": "code",
   "execution_count": 62,
   "metadata": {},
   "outputs": [
    {
     "name": "stdout",
     "output_type": "stream",
     "text": [
      "[5, 4, 3, 2, 1]\n"
     ]
    }
   ],
   "source": [
    "# Time complexity: O(n), where 'n' is the size of the input array.\n",
    "# Space complexity: O(1), only constant additional space is used.\n",
    "\n",
    "def reverse_arr_inPlace(nums):\n",
    "    # Function to reverse the input array in place.\n",
    "    n = len(nums)\n",
    "    if n <= 1:\n",
    "        return nums  # If the array has 0 or 1 element, it's already reversed.\n",
    "    left, right = 0, n - 1  # Initialize pointers at the start and end of the array.\n",
    "    while left < right:  # Loop until pointers meet or cross.\n",
    "        # Swap elements at left and right indices to reverse the array in place.\n",
    "        nums[left], nums[right] = nums[right], nums[left]\n",
    "        left += 1  # Move left pointer to the right.\n",
    "        right -= 1  # Move right pointer to the left.\n",
    "    return nums  # Return the reversed array.\n",
    "\n",
    "# Driver code\n",
    "result = reverse_arr_inPlace([1, 2, 3, 4, 5])  # Example input array\n",
    "print(result)  # Output the reversed array"
   ]
  },
  {
   "cell_type": "markdown",
   "metadata": {},
   "source": [
    "**Q4.** Given an array of itegers, find the maximum element in an array\n",
    "\n",
    "arr = [10, 5, 20, 8, 15]\n",
    "\n",
    "output = 20"
   ]
  },
  {
   "cell_type": "markdown",
   "metadata": {},
   "source": [
    "**Solution 4.**"
   ]
  },
  {
   "cell_type": "code",
   "execution_count": 63,
   "metadata": {},
   "outputs": [
    {
     "data": {
      "text/plain": [
       "5"
      ]
     },
     "execution_count": 63,
     "metadata": {},
     "output_type": "execute_result"
    }
   ],
   "source": [
    "# Time complexity: O(n), where 'n' is the size of the input array.\n",
    "# Space complexity: O(1), only constant additional space is used.\n",
    "\n",
    "def find_max(nums):\n",
    "    # Function to find the maximum element in the input array.\n",
    "    if not nums:\n",
    "        return None  # If the input array is empty, return None.\n",
    "    n = len(nums)  # Get the length of the input array.\n",
    "    if n == 1:\n",
    "        return nums[0]  # If the array has only one element, it is the maximum.\n",
    "    max_val = float('-inf')  # Initialize max_val to negative infinity.\n",
    "    for i in range(n):  # Iterate through each element of the array.\n",
    "        if max_val < nums[i]:  # If the current element is greater than max_val,\n",
    "            max_val = nums[i]  # update max_val to the current element.\n",
    "    return max_val  # Return the maximum value found.\n",
    "\n",
    "# Driver code\n",
    "find_max([1, 2, 3, 4, 5])  # Example input array"
   ]
  },
  {
   "cell_type": "markdown",
   "metadata": {},
   "source": [
    "**Q5.** Given a sorted array, remove the duplicate element without using any extra data structure.\n",
    "\n",
    "arr = [1, 1, 2, 2, 2, 3, 3, 4, 4, 4, 5, 5]\n",
    "\n",
    "output = [1, 2, 3, 4, 5]"
   ]
  },
  {
   "cell_type": "markdown",
   "metadata": {},
   "source": [
    "**Solution 5:**"
   ]
  },
  {
   "cell_type": "code",
   "execution_count": 64,
   "metadata": {},
   "outputs": [
    {
     "name": "stdout",
     "output_type": "stream",
     "text": [
      "[1, 2, 3, 4, 5]\n"
     ]
    }
   ],
   "source": [
    "# Time complexity: O(n), where 'n' is the size of the input array.\n",
    "# Space complexity: O(1), only constant additional space is used.\n",
    "\n",
    "def removeDuplicates(arr):\n",
    "    # Function to remove duplicates from a sorted array.\n",
    "    n = len(arr)\n",
    "    if n <= 1:\n",
    "        return arr  # If the array has 0 or 1 element, no duplicates to remove.\n",
    "    j = 0  # Index to keep track of the last unique element.\n",
    "    for i in range(1, n):\n",
    "        if arr[i] != arr[j]:\n",
    "            j += 1  # Move the pointer to the next unique element.\n",
    "            arr[j] = arr[i]  # Store the unique element at index j.\n",
    "    arr = arr[:j+1]  # Slice the array from index 0 to j (inclusive) to get the unique elements.\n",
    "    return arr\n",
    "\n",
    "# Driver code\n",
    "given_nums = [1, 1, 2, 2, 3, 3, 3, 4, 4, 4, 5, 5]  # given sorted array with duplicates\n",
    "result = removeDuplicates(given_nums)\n",
    "print(result)"
   ]
  }
 ],
 "metadata": {
  "kernelspec": {
   "display_name": "Python 3",
   "language": "python",
   "name": "python3"
  },
  "language_info": {
   "codemirror_mode": {
    "name": "ipython",
    "version": 3
   },
   "file_extension": ".py",
   "mimetype": "text/x-python",
   "name": "python",
   "nbconvert_exporter": "python",
   "pygments_lexer": "ipython3",
   "version": "3.11.5"
  }
 },
 "nbformat": 4,
 "nbformat_minor": 2
}
