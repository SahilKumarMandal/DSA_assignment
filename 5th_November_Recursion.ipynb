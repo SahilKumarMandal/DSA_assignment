{
 "cells": [
  {
   "cell_type": "markdown",
   "metadata": {},
   "source": [
    "**Q1.** Can you explain the logic and working of the Tower of Hanoi algorithm by writing a python program? How does the recursion work, and how are teh movements of disks between rods accomplished?"
   ]
  },
  {
   "cell_type": "markdown",
   "metadata": {},
   "source": [
    "**Solution 1:**"
   ]
  },
  {
   "cell_type": "code",
   "execution_count": 60,
   "metadata": {},
   "outputs": [
    {
     "name": "stdout",
     "output_type": "stream",
     "text": [
      "Move disk 1 from A to C\n",
      "Move disk 2 form A to B\n",
      "Move disk 1 from C to B\n",
      "Move disk 3 form A to C\n",
      "Move disk 1 from B to A\n",
      "Move disk 2 form B to C\n",
      "Move disk 1 from A to C\n"
     ]
    }
   ],
   "source": [
    "def tower_of_hanoi(n, source, target, aux):\n",
    "    \"\"\"\n",
    "    Moves n disks form start rod to end rod using aux rod.\n",
    "\n",
    "    Args:\n",
    "    - n (int): The number of disks.\n",
    "    - start (str): The starting rod.\n",
    "    - end (str): The ending rod.\n",
    "    - aux (str): The auxiliary rod.\n",
    "\n",
    "    Return:\n",
    "    None: Print the sequence of moves.\n",
    "    \"\"\"\n",
    "    # Base condition\n",
    "    if n == 1:\n",
    "        print(f\"Move disk 1 from {source} to {target}\")\n",
    "    \n",
    "    # Reursive call\n",
    "    else:\n",
    "        # Move n-1 disks from start to aux using end as the auxiliary rod\n",
    "        tower_of_hanoi(n-1, source, aux, target)\n",
    "        \n",
    "        # Move the largest disk from start to end\n",
    "        print(f\"Move disk {n} form {source} to {target}\")\n",
    "        \n",
    "        # Move n-1 disks from aux to end using  start as the auxiliary rod.\n",
    "        tower_of_hanoi(n-1, aux, target, source)\n",
    "\n",
    "# Driver code\n",
    "tower_of_hanoi(3, 'A', 'C', 'B')"
   ]
  },
  {
   "cell_type": "markdown",
   "metadata": {},
   "source": [
    "In this program:\n",
    "* The '**tower_of_hanoi**' function is a recursive function that takes the number of disk('n') and the names of the source, auxiliary, and target rods.\n",
    "\n",
    "* If there is only one disk, it directly moves it from source rod to the target rod.\n",
    "\n",
    "* If there are more than one disk, it follow these steps recursively:\n",
    "    * Move the 'n-1' disk from the source rod to the auxiliary rod.\n",
    "    * Move the nth disk form the source rod to the target rod.\n",
    "    * Move the 'n-1' disks from the auxiliary rod to the target rod.\n",
    "\n",
    "The recursion here captures the essence of solving the Tower of Hanoi problem by breaking it down into subproblems until the base case (moving a single disk) is reached.\n",
    "\n",
    "Each recursive call corresponds to moving a subset of disks, and the base case ensures that the recursion stops when there is only one disk to move. The movements are printed out to demostrate the sequence of steps needed to solve the problem."
   ]
  },
  {
   "cell_type": "markdown",
   "metadata": {},
   "source": [
    "**Q2.** Given two strings word1 and word2, return the minimum number of operations required to convert word1 to word2.\n",
    "\n",
    "**Solution 2:**"
   ]
  },
  {
   "cell_type": "code",
   "execution_count": 7,
   "metadata": {},
   "outputs": [
    {
     "name": "stdout",
     "output_type": "stream",
     "text": [
      "5\n"
     ]
    }
   ],
   "source": [
    "def min_distance(word1, word2):\n",
    "    \"\"\"\n",
    "    Return the minimum number of operations required to convert word1 to word2.\n",
    "\n",
    "    Args:\n",
    "        word1 (str): The source string.\n",
    "        word2 (str): The target string.\n",
    "\n",
    "    Returns:\n",
    "        int: The minimum number of operations.\n",
    "\n",
    "    Time complexity: O(3^(m+n)), where 'm' and 'n' are the lengths of word1 and word2.\n",
    "    Space complexity: O(m + n), as the maximum depth of the call stack is 'm + n'.\n",
    "    \"\"\"\n",
    "    # Base cases: if either string is empty\n",
    "    if not word1:\n",
    "        return len(word2)\n",
    "    if not word2:\n",
    "        return len(word1)\n",
    "\n",
    "    # If the last characters are the same, no operation needed\n",
    "    if word1[-1] == word2[-1]:\n",
    "        return min_distance(word1[:-1], word2[:-1])\n",
    "\n",
    "    # Otherwise, consider three operations: insert, delete, or substitute\n",
    "    insert_op = min_distance(word1, word2[:-1])\n",
    "    delete_op = min_distance(word1[:-1], word2)\n",
    "    substitute_op = min_distance(word1[:-1], word2[:-1])\n",
    "\n",
    "    # Return the minimum of the three operations plus 1 (for the current operation)\n",
    "    return 1 + min(insert_op, delete_op, substitute_op)\n",
    "\n",
    "# Example usage\n",
    "word1 = \"insertion\"\n",
    "word2 = \"execution\"\n",
    "result = min_distance(word1, word2)\n",
    "print(result)"
   ]
  },
  {
   "cell_type": "markdown",
   "metadata": {},
   "source": [
    "**Q3.** Print the max value of the array [13, 1, -3, 22, 5]."
   ]
  },
  {
   "cell_type": "markdown",
   "metadata": {},
   "source": [
    "**Solution 3:**"
   ]
  },
  {
   "cell_type": "code",
   "execution_count": 68,
   "metadata": {},
   "outputs": [
    {
     "name": "stdout",
     "output_type": "stream",
     "text": [
      "Maximum value of the given array: 22\n"
     ]
    }
   ],
   "source": [
    "def searchMax(arr, start=0):\n",
    "    \"\"\"\n",
    "    Search the maximum value of the given array.\n",
    "\n",
    "    Args:\n",
    "    - arr: Array containing comparable elements\n",
    "    - start: index to proceeds, default is 0.\n",
    "\n",
    "    Return:\n",
    "    - num: Max value of the given array\n",
    "\n",
    "    Time complexity: O(n)\n",
    "        This algorithm will uses at most 'n' recursive call. Where 'n' is the size of the input array.\n",
    "\n",
    "    Space complexity: O(n)\n",
    "        This algorithm will use at most 'n' call stack.\n",
    "    \"\"\"\n",
    "    # Base condition\n",
    "    if start >= len(arr):\n",
    "        return -1111 \n",
    "    \n",
    "    # Calculate max value, using recursive calls\n",
    "    max_val = max(arr[start], searchMax(arr, start + 1))\n",
    "    \n",
    "    return max_val  # Return the max value\n",
    "\n",
    "# Driver code\n",
    "givenArr = [13, 1, -3, 22, 5]\n",
    "result = searchMax(givenArr)\n",
    "print(\"Maximum value of the given array:\", result)"
   ]
  },
  {
   "cell_type": "markdown",
   "metadata": {},
   "source": [
    "**Q4.** Find the sum of the values of the array [92, 23, 15, -20, 10]."
   ]
  },
  {
   "cell_type": "markdown",
   "metadata": {},
   "source": [
    "**Solution 4:**"
   ]
  },
  {
   "cell_type": "code",
   "execution_count": 70,
   "metadata": {},
   "outputs": [
    {
     "name": "stdout",
     "output_type": "stream",
     "text": [
      "Total sum = 28.5\n"
     ]
    }
   ],
   "source": [
    "def findSum(arr, start=0):\n",
    "    \"\"\"\n",
    "    Calculate and return the sum of the elements of the given array.\n",
    "\n",
    "    Args:\n",
    "    - arr (list): An array containing comparable elements.\n",
    "    - start: index to proceeds, default is 0.\n",
    "\n",
    "    Return:\n",
    "    - num: sum of the comparable elements.\n",
    "\n",
    "    Time complexity: O(n)\n",
    "        This algorithm will uses at most 'n' recursive call. Where 'n' is the size of the input array.\n",
    "\n",
    "    Space complexity: O(n)\n",
    "        This algorithm will use at most 'n' call stack.\n",
    "    \"\"\"\n",
    "    # Base condition\n",
    "    if start >= len(arr):\n",
    "        return 0\n",
    "    \n",
    "    # Calculating total sum, using recursive call\n",
    "    total_sum = arr[start] + findSum(arr, start+1)\n",
    "    \n",
    "    return total_sum    # Return the total sum\n",
    "\n",
    "# Example usage\n",
    "given_arr = [1, 2, 3, 4, 5, 6, 7, 0.5]\n",
    "result = findSum(given_arr)\n",
    "print(\"Total sum =\", result)"
   ]
  },
  {
   "cell_type": "markdown",
   "metadata": {},
   "source": [
    "**Q5.** Given a number n. Print if it is an armstrong number or not. An armstrong number is a number if the sum of every digit in that number raised to the power of total digits in that number is equal to the number."
   ]
  },
  {
   "cell_type": "markdown",
   "metadata": {},
   "source": [
    "**Solution 5:**"
   ]
  },
  {
   "cell_type": "code",
   "execution_count": 34,
   "metadata": {},
   "outputs": [
    {
     "name": "stdout",
     "output_type": "stream",
     "text": [
      "True\n"
     ]
    }
   ],
   "source": [
    "def countDigit(num):\n",
    "    \"\"\"\n",
    "    Recursively count the number of digits in a given iteger.\n",
    "\n",
    "    Args:\n",
    "        num (int): The integer to count digits for.\n",
    "\n",
    "    Return:\n",
    "        int: Total number of digits.\n",
    "\n",
    "    Time complexity: O(n), where 'n' is the number of digits in the given number.\n",
    "    Space complexity: O(n), as the maximum depth of the call stack is 'n'.\n",
    "    \"\"\"\n",
    "    # IF num is (-)ve make it (+)ve\n",
    "    if num < 0:\n",
    "        return -1 * num\n",
    "    \n",
    "    # Base condition: Single-digit number\n",
    "    elif  0 <= num < 10:\n",
    "        return 1\n",
    "    # Recursive call for the remaining digits\n",
    "    else:\n",
    "        return 1 + countDigit(num//10)\n",
    "\n",
    "def digit_pow_sum_recursive(num, power):\n",
    "    \"\"\"\n",
    "    Recursively calculate the sum of each digit raised to the given power in a given integer.\n",
    "\n",
    "    Args:\n",
    "        num (int): The integer to calculate the sum for.\n",
    "        power (int): The power to raise each digit during the sum.\n",
    "    \n",
    "    Returns:\n",
    "        int: The sum of each digit raised to the power.\n",
    "    \n",
    "    Time complexity: O(n), where 'n' is the number of digits in the given number.\n",
    "    Space complexity: O(n), as the maximum depth of the call stack is 'n'.\n",
    "    \"\"\"\n",
    "    # IF num is (-)ve make it (+)ve\n",
    "    if num < 0:\n",
    "        return -1 * num\n",
    "    \n",
    "    # Base condition: Single-digit number\n",
    "    elif 0 <= num < 10:\n",
    "        return num**power\n",
    "    # Recursive call for remaining digits\n",
    "    else:\n",
    "        return (num % 10) ** power + digit_pow_sum_recursive(num//10, power)\n",
    "\n",
    "def isArmstrong(num):\n",
    "    \"\"\"\n",
    "    Check if a given number is an Armstring number.\n",
    "    \n",
    "    Args:\n",
    "        num (int): The number to check.\n",
    "    \n",
    "    Returns:\n",
    "        str: \"Yes\", if it is armstrong. Otherwise, \"No\"\n",
    "    \n",
    "    Time complexity: O(n), where 'n' is the number of digits in the given number.\n",
    "    Space complexity: O(n), as the maximum depth of the call stack is 'n'.\n",
    "    \"\"\"\n",
    "    # Negative number can't be a Armstrong number.\n",
    "    if num < 0:\n",
    "        return False\n",
    "    \n",
    "    # Calculate the total number of digits\n",
    "    total_digits = countDigit(num)\n",
    "\n",
    "    # Check if the number if Armstrong\n",
    "    return True if num == digit_pow_sum_recursive(num, total_digits) else False\n",
    "\n",
    "# Driver code\n",
    "given_num = 153\n",
    "result = isArmstrong(given_num)\n",
    "print(result)"
   ]
  }
 ],
 "metadata": {
  "kernelspec": {
   "display_name": "Python 3",
   "language": "python",
   "name": "python3"
  },
  "language_info": {
   "codemirror_mode": {
    "name": "ipython",
    "version": 3
   },
   "file_extension": ".py",
   "mimetype": "text/x-python",
   "name": "python",
   "nbconvert_exporter": "python",
   "pygments_lexer": "ipython3",
   "version": "3.11.5"
  }
 },
 "nbformat": 4,
 "nbformat_minor": 2
}
