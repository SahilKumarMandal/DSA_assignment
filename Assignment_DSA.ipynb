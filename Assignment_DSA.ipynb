{
 "cells": [
  {
   "cell_type": "markdown",
   "metadata": {},
   "source": [
    "### **Helper**"
   ]
  },
  {
   "cell_type": "code",
   "execution_count": 1,
   "metadata": {},
   "outputs": [],
   "source": [
    "class Node:\n",
    "    def __init__(self, data, next=None):\n",
    "        \"\"\"\n",
    "        Initializes a linked list.\n",
    "\n",
    "        Parameters:\n",
    "        - data: The data or value.\n",
    "        - next: A reference to the next node in the sequence.\n",
    "        \"\"\"\n",
    "        self.data = data\n",
    "        self.next = next\n",
    "\n",
    "def traverse(head):\n",
    "    \"\"\"\n",
    "    Traverse through a linked list, printing its elements and connections.\n",
    "\n",
    "    Parameters:\n",
    "    - head: The head node of the linked list.\n",
    "\n",
    "    Prints:\n",
    "    - Each element of the linked list, along with an arrow indidicating the next node.\n",
    "    \"\"\"\n",
    "    temp = head\n",
    "    while temp:\n",
    "        print(temp.data, end=' -> ')\n",
    "        temp = temp.next\n",
    "        \n",
    "def length(head):\n",
    "    \"\"\"\n",
    "    Length of the linked list.\n",
    "\n",
    "    Parameters:\n",
    "    - head: The head node of the linked list.\n",
    "\n",
    "    Returns:\n",
    "    - count (int): The number of nodes in the linked list.\n",
    "    \"\"\"\n",
    "    temp = head\n",
    "    count = 0\n",
    "    \n",
    "    while temp:\n",
    "        count += 1\n",
    "        temp = temp.next\n",
    "    \n",
    "    return count"
   ]
  },
  {
   "cell_type": "markdown",
   "metadata": {},
   "source": [
    "### **Linked list**"
   ]
  },
  {
   "cell_type": "markdown",
   "metadata": {},
   "source": [
    "**Problem 1:** Reverse a singly linked list.\n",
    "\n",
    "**Solution:**"
   ]
  },
  {
   "cell_type": "code",
   "execution_count": 2,
   "metadata": {},
   "outputs": [
    {
     "name": "stdout",
     "output_type": "stream",
     "text": [
      "5 -> 4 -> 3 -> 2 -> 1 -> "
     ]
    }
   ],
   "source": [
    "# Time complexity: O(n), where n is the length of the input linked list\n",
    "# Space complexity: O(1), only constant additional space is used to stores pointers.\n",
    "\n",
    "# Function to reverse a linked list\n",
    "def reverse(head):\n",
    "    # If there is only one or less node, no need to reverse\n",
    "    if not head or head.next is None:\n",
    "        return head \n",
    "    \n",
    "    # Initialize previous node as None and current node as head of the linked list\n",
    "    prev = None\n",
    "    current = head\n",
    "\n",
    "    # Traverse the linked list\n",
    "    while current:\n",
    "        # Store the next node in a temporarily variable\n",
    "        next_node = current.next\n",
    "        # Reverse the link by pointing the current node's next to the previous node\n",
    "        current.next = prev\n",
    "        # Move the previous and current pointers one step forward to the linked list\n",
    "        prev = current\n",
    "        current = next_node\n",
    "    \n",
    "    # After the loop, the 'prev' pointer is at the new head of the reversed linked list\n",
    "    head = prev\n",
    "    \n",
    "    # Return the new head of the reversed linked list\n",
    "    return head\n",
    "\n",
    "# Driver code\n",
    "head = Node(1, Node(2, Node(3, Node(4, Node(5)))))\n",
    "result = reverse(head)\n",
    "traverse(result)"
   ]
  },
  {
   "cell_type": "markdown",
   "metadata": {},
   "source": [
    "**Problem 2:** Merge two sorted linked lists into one sorted linked list.\n",
    "\n",
    "**Solution:**"
   ]
  },
  {
   "cell_type": "code",
   "execution_count": 3,
   "metadata": {},
   "outputs": [
    {
     "name": "stdout",
     "output_type": "stream",
     "text": [
      "1 -> 2 -> 3 -> 4 -> 5 -> 6 -> 7 -> 8 -> "
     ]
    }
   ],
   "source": [
    "# Time complexity: O(min(M, N)), where M and N is length of the input linked list1 and list2 respectively.\n",
    "# Space complexity: O(1), only constant additional space is used to create dummy node and pointers.\n",
    "\n",
    "# Function to merge two sorted linked lists\n",
    "def merge_sorted_lists(list1, list2):\n",
    "    # Create a dummy node to simplify the code\n",
    "    dummy = Node(0)\n",
    "    # Initialize a current pointer to the dummy node\n",
    "    current = dummy\n",
    "\n",
    "    # Traverse both linked lists\n",
    "    while list1 and list2:\n",
    "        # Compare the values of the current nodes in list1 and list2\n",
    "        if list1.data < list2.data:\n",
    "            # If the value in list1 is smaller, add it to the merged list\n",
    "            current.next = list1\n",
    "            # Move the pointer in list1 to the next node\n",
    "            list1 = list1.next\n",
    "        else:\n",
    "            # If the value in list2 is smaller or equal, add it to the merged list\n",
    "            current.next = list2\n",
    "            # Move the pointer in list2 to the next node\n",
    "            list2 = list2.next\n",
    "        \n",
    "        # Move the current pointer in the merged list to the last added node\n",
    "        current = current.next\n",
    "    \n",
    "    # If there are remaining nodes in list1 or list2, add them to the merged list\n",
    "    if list1:\n",
    "        current.next = list1\n",
    "    elif list2:\n",
    "        current.next = list2\n",
    "    \n",
    "    # Return the next node of the dummy node, which is the head of the merged list\n",
    "    return dummy.next\n",
    "\n",
    "# Driver code\n",
    "list1 = Node(1, Node(3, Node(5, Node(7))))\n",
    "list2 = Node(2, Node(4, Node(6, Node(8))))\n",
    "\n",
    "result = merge_sorted_lists(list1, list2)\n",
    "traverse(result)"
   ]
  },
  {
   "cell_type": "markdown",
   "metadata": {},
   "source": [
    "**Problem 3:** Remove the nth node from the end of the linked list.\n",
    "\n",
    "**Solution:**"
   ]
  },
  {
   "cell_type": "code",
   "execution_count": 4,
   "metadata": {},
   "outputs": [
    {
     "name": "stdout",
     "output_type": "stream",
     "text": [
      "Original list:\n",
      "5 -> 4 -> 3 -> 2 -> 1 -> \n",
      "\n",
      "After removing 5th node from end:\n",
      "5 -> 3 -> 2 -> 1 -> "
     ]
    }
   ],
   "source": [
    "# Time complexity: O(n), where n is the total nodes in the input linked list\n",
    "# Space complexity: O(1), only constant additional space is used to store pointers and variables.\n",
    "\n",
    "# Define a function to find the length of a linked list\n",
    "def removeNthFromEnd(head, k):\n",
    "    # find the length of the linked list\n",
    "    size = length(head) # Calling 'length()' function from the helper\n",
    "\n",
    "    # Check if k is out of bounds or if the list is empty\n",
    "    if k <= 0 or k > size:\n",
    "        return head\n",
    "    \n",
    "    # If k is equal to the size, remove the head of the list\n",
    "    elif k == size:\n",
    "        head = head.next\n",
    "    \n",
    "    else:\n",
    "        current = head\n",
    "        j = 0\n",
    "        # Move the current pointer to the node before the Nth node from the end\n",
    "        while j < (size - k - 1):\n",
    "            current = current.next\n",
    "            j += 1\n",
    "\n",
    "        # Skip the Nth node from end by updating the next pointer\n",
    "        current.next = current.next.next\n",
    "\n",
    "    # Return the head of the modified linked list\n",
    "    return head\n",
    "\n",
    "# Driver code\n",
    "head = Node(5, Node(4, Node(3, Node(2, Node(1)))))\n",
    "\n",
    "print(\"Original list:\")\n",
    "traverse(head)  # Calling 'traverse()' function from the helper\n",
    "\n",
    "print(\"\\n\\nAfter removing 5th node from end:\")\n",
    "result = removeNthFromEnd(head, 4)\n",
    "traverse(result)"
   ]
  },
  {
   "cell_type": "markdown",
   "metadata": {},
   "source": [
    "**Problem 4:** Find the intersection point of two linked lists.\n",
    "\n",
    "**Solution:**"
   ]
  },
  {
   "cell_type": "code",
   "execution_count": 5,
   "metadata": {},
   "outputs": [
    {
     "name": "stdout",
     "output_type": "stream",
     "text": [
      "Node with the value 1\n"
     ]
    }
   ],
   "source": [
    "# Time complexity: O(n + m), where n and m are length of the input linked list1 and list2 respectively.\n",
    "# Space complexity: O(n), where n is the size of input linked list1.\n",
    "\n",
    "# Define a function to find the intersection point of two linked lists\n",
    "def findIntersectionPoint(list1, list2):\n",
    "    # Check if either of the lists is empty\n",
    "    if not list1 or not list2:\n",
    "        return None\n",
    "    \n",
    "    # Create a set to store unique values of nodes in the first linked list\n",
    "    seen_nodes = set()\n",
    "\n",
    "    # Traverse the first linked list and add each node's value to the set\n",
    "    while list1:\n",
    "        seen_nodes.add(list1.data)\n",
    "        list1 = list1.next\n",
    "    \n",
    "    # Traverse the second linked list\n",
    "    while list2:\n",
    "        # If the value of the current node in the second list is in the set,\n",
    "        # it means that its's an intersection point, so return the value\n",
    "        if list2.data in seen_nodes:\n",
    "            return list2.data\n",
    "        list2 = list2.next\n",
    "    \n",
    "    # If no intersection point is found, return None\n",
    "    return None\n",
    "\n",
    "# Driver code\n",
    "list1 = Node(1, Node(3, Node(5, Node(7))))\n",
    "list2 = Node(1, Node(4, Node(6, Node(8))))\n",
    "\n",
    "result = findIntersectionPoint(list1, list2)\n",
    "print(\"Node with the value\", result)"
   ]
  },
  {
   "cell_type": "markdown",
   "metadata": {},
   "source": [
    "**Problem 5:** Remove duplicates from a sorted linked list.\n",
    "\n",
    "**Solution:**"
   ]
  },
  {
   "cell_type": "code",
   "execution_count": 6,
   "metadata": {},
   "outputs": [
    {
     "name": "stdout",
     "output_type": "stream",
     "text": [
      "1 -> 2 -> 3 -> 4 -> 5 -> "
     ]
    }
   ],
   "source": [
    "# Time complexity: O(n), where n is the total nodes in the input list.\n",
    "# Space complexity: O(1), only constant additional space is used to store pointers and variables.\n",
    "\n",
    "# Define a function to remove duplicates from a sorted linked list\n",
    "def removeDuplicates(head):\n",
    "    # Create a dummy node to simplify the code\n",
    "    dummy = Node(0)\n",
    "    # Initialize 'prev' to the dummy node and 'current' to the head of linked list\n",
    "    prev = dummy\n",
    "    current = head\n",
    "\n",
    "    # Traverse the linked list\n",
    "    while current:\n",
    "        # Check if the current node's data is different from the previous node's data\n",
    "        if current.data != prev.data:\n",
    "            # Update the 'next' pointer of the previous node to the current node\n",
    "            prev.next = current\n",
    "            # Move the 'prev' pointer to the current node\n",
    "            prev = prev.next\n",
    "        \n",
    "        # Move the 'current' pointer to the next node\n",
    "        current = current.next\n",
    "    \n",
    "    # Set the next of the last non_duplicate node to None\n",
    "    prev.next = None\n",
    "    \n",
    "    # Return the next node of the dummy node, which if the head of the modified list\n",
    "    return dummy.next\n",
    "\n",
    "# Driver code\n",
    "head = Node(1, Node(2, Node(2, Node(3, Node(4, Node(5, Node(5)))))))\n",
    "result = removeDuplicates(head)\n",
    "traverse(result)    # Calling 'traverse()' function from the helper"
   ]
  },
  {
   "cell_type": "markdown",
   "metadata": {},
   "source": [
    "**Problem 6:** Add two number represented by linked list (where each node contains a single digit).\n",
    "\n",
    "**Solution:**"
   ]
  },
  {
   "cell_type": "code",
   "execution_count": 7,
   "metadata": {},
   "outputs": [
    {
     "name": "stdout",
     "output_type": "stream",
     "text": [
      "3 -> 4 -> 9 -> 1 -> "
     ]
    }
   ],
   "source": [
    "# Time complexity: O(max(n, m)), where n and m is the sizes of the input linked lists 'list1' and 'list2' respectively.\n",
    "# Space complexity: O(max(n, n))\n",
    "\n",
    "# Define a function to add two linked lists representing numbers\n",
    "def add_linked_lists(list1, list2):\n",
    "    # Create a dummy node to simplify the code\n",
    "    dummy = Node(0)\n",
    "    # Initialize 'current' to the dummy node and 'carry' to 0\n",
    "    current = dummy\n",
    "    carry = 0\n",
    "\n",
    "    # Continue the loop until both lists are traversed and there is no carry\n",
    "    while list1 or list2 or carry:\n",
    "        # Extracting values from the current nodes (or 0 if node is None)\n",
    "        x = list1.data if list1 else 0\n",
    "        y = list2.data if list2 else 0\n",
    "\n",
    "        # Calculate sum and carry\n",
    "        total_sum = x + y + carry\n",
    "        carry = total_sum // 10\n",
    "\n",
    "        # Create a new node with the result and move to the next node\n",
    "        current.next = Node(total_sum % 10)\n",
    "        current = current.next\n",
    "\n",
    "        # Move to the next nodes in the input linked lists (if available)\n",
    "        if list1:\n",
    "            list1 = list1.next\n",
    "        if list2:\n",
    "            list2 = list2.next\n",
    "    \n",
    "    # Return the addition of list1 and list2\n",
    "    return dummy.next\n",
    "\n",
    "# Driver code\n",
    "list1 = Node(7, Node(8, Node(9)))\n",
    "list2 = Node(6, Node(5, Node(9)))\n",
    "\n",
    "result = add_linked_lists(list1, list2)\n",
    "traverse(result)    # Calling 'traverse()' function from the helper"
   ]
  },
  {
   "cell_type": "markdown",
   "metadata": {},
   "source": [
    "**Problem 7:** Swap nodes in pairs in a linked list.\n",
    "\n",
    "**Solution:**"
   ]
  },
  {
   "cell_type": "code",
   "execution_count": 8,
   "metadata": {},
   "outputs": [
    {
     "name": "stdout",
     "output_type": "stream",
     "text": [
      "2 -> 1 -> 4 -> 3 -> 5 -> "
     ]
    }
   ],
   "source": [
    "# Time complexity: O(n), where n is the total nodes in the input list.\n",
    "# Space complexity: O(1), only constant additional space is used to store pointers and variables.\n",
    "\n",
    "# Define a function to swap nodes in pairs in a linked list\n",
    "def swapInPairs(list):\n",
    "    # Create a dummy node to simplify the code\n",
    "    dummy = Node(0)\n",
    "    dummy.next = list\n",
    "    current = dummy\n",
    "\n",
    "    # Continue the loop as long as there are at least two nodes to swap\n",
    "    while current.next and current.next.next:\n",
    "        # Extract the nodes to be swapped\n",
    "        node1 = current.next\n",
    "        node2 = current.next.next\n",
    "\n",
    "        # Perforem the swap by adjusting the next pointers\n",
    "        node1.next = node2.next\n",
    "        current.next = node2\n",
    "        node2.next = node1\n",
    "\n",
    "        # Move the 'current' pointer to the next pair of nodes\n",
    "        current = current.next.next\n",
    "    \n",
    "    # Return the modified linked list\n",
    "    return dummy.next\n",
    "\n",
    "# Driver code\n",
    "lst = Node(1, Node(2, Node(3, Node(4, Node(5)))))\n",
    "result = swapInPairs(lst)\n",
    "traverse(result)    # Calling 'traverse()' function from the helper"
   ]
  },
  {
   "cell_type": "markdown",
   "metadata": {},
   "source": [
    "**Problem 8:** Reverse node in a linked list in groups of k.\n",
    "\n",
    "**Solution:** "
   ]
  },
  {
   "cell_type": "code",
   "execution_count": 9,
   "metadata": {},
   "outputs": [
    {
     "name": "stdout",
     "output_type": "stream",
     "text": [
      "3 -> 2 -> 1 -> 6 -> 5 -> 4 -> "
     ]
    }
   ],
   "source": [
    "# Time complexity: O(n), where n is the size of the input list\n",
    "# Space complexity: O(1), only constant additional space is used to store pointers, variables and dummy node\n",
    "\n",
    "# Define a function to reverse a sublist from 'start' to 'end'\n",
    "def reverse_sublist(start, end):\n",
    "    prev, current = None, start\n",
    "    \n",
    "    while current != end:\n",
    "        next_node = current.next\n",
    "        current.next = prev\n",
    "        prev = current\n",
    "        current = next_node\n",
    "    \n",
    "    return prev\n",
    "\n",
    "# Define a function to reverse linked list nodes in groups of size k\n",
    "def reverseInGroups(head, k):\n",
    "    # Create a dummy node to simplify the code\n",
    "    dummy = Node(0)\n",
    "    dummy.next = head\n",
    "    prev_group_end = dummy\n",
    "\n",
    "    # Continue the loop until there are enough nodes to form a group\n",
    "    while True:\n",
    "        group_start = prev_group_end.next\n",
    "        group_end = group_start\n",
    "\n",
    "        # Move 'group_end' to the kth node in the group\n",
    "        for _ in range(k):\n",
    "            if group_end is None:\n",
    "                return dummy.next   # Not enough nodes to form a group\n",
    "            group_end = group_end.next\n",
    "\n",
    "        # Reverse the current group\n",
    "        new_group_start = reverse_sublist(group_start, group_end)\n",
    "        \n",
    "        # Connect the reversed group to the previous and next group \n",
    "        prev_group_end.next = new_group_start\n",
    "        group_start.next = group_end\n",
    "\n",
    "        # Move to the next group\n",
    "        prev_group_end = group_start\n",
    "\n",
    "# Driver code\n",
    "head = Node(1, Node(2, Node(3, Node(4, Node(5, Node(6))))))\n",
    "k = 3\n",
    "result = reverseInGroups(head, k)\n",
    "traverse(result)    # Call the 'traverse()' function from helper to print the modified linked list"
   ]
  },
  {
   "cell_type": "markdown",
   "metadata": {},
   "source": [
    "**Solution 9:** Determine if a linked list is palindrome.\n",
    "\n",
    "**Solution:**"
   ]
  },
  {
   "cell_type": "code",
   "execution_count": 10,
   "metadata": {},
   "outputs": [
    {
     "name": "stdout",
     "output_type": "stream",
     "text": [
      "True\n"
     ]
    }
   ],
   "source": [
    "# Time complexity: O(n), where n is the size of the input linked list\n",
    "# Space complexixty: O(1), constant additional space is used to store pointers and variables\n",
    "\n",
    "# Define a function to check if a linked list is a palindrome\n",
    "def isPalindrome(head):\n",
    "    # Helper function to find the middle of the linked list\n",
    "    def findMiddle(start):\n",
    "        slow = fast = start\n",
    "        while fast and fast.next:\n",
    "            slow = slow.next\n",
    "            fast = fast.next.next\n",
    "        return slow\n",
    "    \n",
    "    # Find the middle of the  given linked list\n",
    "    middle = findMiddle(head)\n",
    "\n",
    "    # Reverse the second half of the linked list\n",
    "    reversed_half = reverse(middle)     # 'reverse()' function is call from solution 1\n",
    "\n",
    "    # Compare tha first half with the reversed second half\n",
    "    while reversed_half:\n",
    "        if head.data != reversed_half.data:\n",
    "            return False\n",
    "        head = head.next\n",
    "        reversed_half = reversed_half.next\n",
    "\n",
    "    return True\n",
    "\n",
    "# Driver code\n",
    "given_list = Node(1, Node(2, Node(3, Node(2, Node(1)))))\n",
    "result = isPalindrome(given_list)\n",
    "print(result)"
   ]
  },
  {
   "cell_type": "markdown",
   "metadata": {},
   "source": [
    "**Problem 10:** Rotate the linked list to the right by k places.\n",
    "\n",
    "**Solution:** "
   ]
  },
  {
   "cell_type": "code",
   "execution_count": 11,
   "metadata": {},
   "outputs": [
    {
     "name": "stdout",
     "output_type": "stream",
     "text": [
      "2 -> 3 -> 4 -> 5 -> 1 -> "
     ]
    }
   ],
   "source": [
    "# Time complexity: O(n), where n is the size of the input linked list\n",
    "# Space complexity: O(1), constant additional space is used to store pointers and variables.\n",
    "\n",
    "# Define a function to rotate a linked list to the right by k positions\n",
    "def rotate_list_to_right(list, k):\n",
    "    # Find the length of the linked list\n",
    "    listLen = length(list)\n",
    "    # Ensuring k doesn't exceed from the length of the linked list \n",
    "    k = k % listLen\n",
    "\n",
    "    # If k is 0, no rotation is needed\n",
    "    if k == 0:\n",
    "        return list\n",
    "    \n",
    "    # Initialize pointers for the rotation process\n",
    "    first_node = list\n",
    "    current = list\n",
    "    j = 0\n",
    "\n",
    "    # Move 'current' pointer to the node just before the new head after rotation\n",
    "    while j < listLen - k - 1:\n",
    "        current = current.next\n",
    "        j += 1\n",
    "    \n",
    "    # Disconnect the roted portion from the original list\n",
    "    remaining_nodes = current.next\n",
    "    current.next = None\n",
    "    \n",
    "    # Move 'end_node' pointer to the last node in the rotated portion\n",
    "    end_node = remaining_nodes\n",
    "    while end_node.next:\n",
    "        end_node = end_node.next\n",
    "    \n",
    "    # Connect the last node of the rotated portion to the original head\n",
    "    end_node.next = first_node\n",
    "\n",
    "    # The new head is the first node of the rotaed portion\n",
    "    head = remaining_nodes\n",
    "    return head\n",
    "\n",
    "# Driver code\n",
    "lst = Node(1, Node(2, Node(3, Node(4, Node(5)))))\n",
    "k = 4\n",
    "result = rotate_list_to_right(lst, k)\n",
    "traverse(result)"
   ]
  },
  {
   "cell_type": "markdown",
   "metadata": {},
   "source": [
    "**Problem 11:** Flatten a multilevel doubly linked list\n",
    "\n",
    "**Solution:**"
   ]
  },
  {
   "cell_type": "code",
   "execution_count": 12,
   "metadata": {},
   "outputs": [
    {
     "name": "stdout",
     "output_type": "stream",
     "text": [
      "1 <-> 2 <-> 3 <-> 4 <-> 5 <-> 6 <-> 7 <-> 8 <-> 9 <-> 10 <-> 11 <-> 12 <-> 13 -> None\n"
     ]
    }
   ],
   "source": [
    "# Time complexity: O(M, N, P), where 'M', 'N', and 'P' are the size of the linked list1, list2, and list3\n",
    "# Space complexity: O(M, N, P), where 'M', 'N', and 'P' are the size of the linked list1, list2, and list3\n",
    "\n",
    "class LinkedList:\n",
    "    def __init__(self, data=None, prev=None, next=None):\n",
    "        \"\"\"\n",
    "        Initializes a doubly linked list node.\n",
    "\n",
    "        Parameters:\n",
    "        - data: The data or value.\n",
    "        - prev: A reference to the previous node in the sequence.\n",
    "        - next: A reference to the next node in the sequenct.\n",
    "        \"\"\"\n",
    "        self.data = data\n",
    "        self.prev = prev\n",
    "        self.next = next\n",
    "\n",
    "def iterate_linked_list(head):\n",
    "    \"\"\"\n",
    "    Iterates through a linked list, printing its elements and connections.\n",
    "    \n",
    "    Parameters:\n",
    "    - head: The head node of the linked list.\n",
    "\n",
    "    Prints:\n",
    "    - Each element of the linked list, along with an arrow indicating the next node.\n",
    "    - \"None\" to indicate the end of the linked list.\n",
    "    \"\"\"\n",
    "    temp = head\n",
    "    while temp:\n",
    "        arrow = '<->' if temp.next and temp.next.prev else '->'\n",
    "        print(temp.data, end=f' {arrow} ')\n",
    "        temp = temp.next\n",
    "    print(\"None\")\n",
    "\n",
    "def merge_sorted_lists(list1, list2):\n",
    "    \"\"\"\n",
    "    Merges two sorted linked lists into a single sorted list.\n",
    "\n",
    "    Parameters:\n",
    "    - list1: The head node of the first sorted linked list.\n",
    "    - list2: The head node of the second sorted linked list.\n",
    "\n",
    "    Returns:\n",
    "    - The head node of the merged sorted linked list.\n",
    "    \"\"\"\n",
    "    dummy = LinkedList(0)\n",
    "    current = dummy\n",
    "\n",
    "    while list1 and list2:\n",
    "        if list1.data < list2.data:\n",
    "            current.next = list1\n",
    "            list1 = list1.next\n",
    "        else:\n",
    "            current.next = list2\n",
    "            list2 = list2.next\n",
    "\n",
    "        current = current.next\n",
    "    \n",
    "    if list1:\n",
    "        current.next = list1\n",
    "    elif list2:\n",
    "        current.next = list2\n",
    "    \n",
    "    return dummy.next\n",
    "\n",
    "def singly_to_doubly(list):\n",
    "    \"\"\"\n",
    "    Converts a singly linked list to a doubly linked list.\n",
    "\n",
    "    Parameters:\n",
    "    - list: The head node of the singly linked list.\n",
    "\n",
    "    Returns:\n",
    "    - The head node of the converted doubly linked list.\n",
    "    \"\"\"\n",
    "    temp = list.next\n",
    "    while temp:\n",
    "        prev_node = temp\n",
    "        if not temp.prev:\n",
    "            temp.prev = prev_node\n",
    "        temp = temp.next\n",
    "    return list\n",
    "\n",
    "def flatten_doubly_linkedList(list1, list2, list3):\n",
    "    \"\"\"\n",
    "    Flattens three sorted doubly linked lists into a single doubly linked list.\n",
    "\n",
    "    Parameters:\n",
    "    - list1: The head node of the first sorted linked list.\n",
    "    - list2: The head node of the second sorted linked list.\n",
    "    - list3: The head node of the third sorted linked list.\n",
    "\n",
    "    Returns:\n",
    "    - The head node of the flattened sorted doubly linked list.\n",
    "    \"\"\"\n",
    "    merged1 = merge_sorted_lists(list1, list2)\n",
    "    merged2 = merge_sorted_lists(merged1, list3)\n",
    "    result = singly_to_doubly(merged2)\n",
    "    return result\n",
    "\n",
    "# Driver code\n",
    "# Creating linked list1\n",
    "__node1 = LinkedList(6)\n",
    "__node2 = LinkedList(13)\n",
    "\n",
    "__node1.next = __node2\n",
    "\n",
    "list1 = __node1\n",
    "\n",
    "# Creating linked list2\n",
    "node1 = LinkedList(4)\n",
    "node2 = LinkedList(5)\n",
    "node3 = LinkedList(9)\n",
    "node4 = LinkedList(10)\n",
    "\n",
    "node1.next = node2\n",
    "node2.prev, node2.next = node1, node3\n",
    "node3.next = node4\n",
    "\n",
    "list2 = node1\n",
    "\n",
    "# creating linked list3\n",
    "_node1 = LinkedList(1)\n",
    "_node2 = LinkedList(2)\n",
    "_node3 = LinkedList(3)\n",
    "_node4 = LinkedList(7)\n",
    "_node5 = LinkedList(8)\n",
    "_node6 = LinkedList(11)\n",
    "_node7 = LinkedList(12)\n",
    "\n",
    "_node1.next = _node2\n",
    "_node2.prev, _node2.next = _node1, _node3\n",
    "_node3.prev, _node3.next = _node2, _node4\n",
    "_node4.prev, _node4.next = _node3, _node5\n",
    "_node5.prev, _node5.next = _node4, _node6\n",
    "_node6.prev, _node6.next = _node5, _node7\n",
    "\n",
    "list3 = _node1\n",
    "\n",
    "# Flattening list1, list2 and list3\n",
    "result = flatten_doubly_linkedList(list1, list2, list3)\n",
    "iterate_linked_list(result)"
   ]
  },
  {
   "cell_type": "markdown",
   "metadata": {},
   "source": [
    "**Problem 12:** Rearrange a linked list such that all even positioned nodes are placed at the end.\n",
    "\n",
    "**Solution:**"
   ]
  },
  {
   "cell_type": "code",
   "execution_count": 13,
   "metadata": {},
   "outputs": [
    {
     "name": "stdout",
     "output_type": "stream",
     "text": [
      "21 -> 13 -> 5 -> 7 -> 10 -> 4 -> "
     ]
    }
   ],
   "source": [
    "# Time complexity: O(n), where n is the number of nodes in the linked list\n",
    "# Space complexity: O(1), constant additional space is used to store odd and even linked list heads.\n",
    " \n",
    "# Define a funcion to move nodes with even values to the end of a linked list\n",
    "def moveEvenPositionToEnd(lst):\n",
    "    if not lst or not lst.next:\n",
    "        return lst  # No modification needed for empty or single-node list\n",
    "    \n",
    "    # Initialize separate linked lists for nodes with odd and even values\n",
    "    odd, even = Node(0), Node(0)\n",
    "    odd_head, even_head = odd, even\n",
    "\n",
    "    # Traverse the original linked list\n",
    "    while lst:\n",
    "        # Check if the value is even or odd\n",
    "        if lst.data % 2 != 0:\n",
    "            odd_head.next = lst\n",
    "            odd_head = odd_head.next\n",
    "        else:\n",
    "            even_head.next = lst\n",
    "            even_head = even_head.next\n",
    "        \n",
    "        lst = lst.next\n",
    "    \n",
    "    even_head.next = None    # Set the next of the last even-positioned node to None\n",
    "    odd_head.next = even.next\n",
    "    head = odd.next         # The new head is the first node in the odd list\n",
    "\n",
    "    return head\n",
    "\n",
    "# Driver code\n",
    "head = Node(10, Node(21, Node(13, Node(4, Node(5, Node(7))))))\n",
    "result = moveEvenPositionToEnd(head)\n",
    "traverse(result)"
   ]
  },
  {
   "cell_type": "markdown",
   "metadata": {},
   "source": [
    "**Solution 13:**"
   ]
  },
  {
   "cell_type": "code",
   "execution_count": 14,
   "metadata": {},
   "outputs": [
    {
     "name": "stdout",
     "output_type": "stream",
     "text": [
      "1 -> 2 -> 3 -> 1 -> 0 -> "
     ]
    }
   ],
   "source": [
    "# Time complexity: O(n), where n is the size of the input linked list\n",
    "# Space complexity: O(1), only constant additional additional space is used\n",
    "def addOneToLinkedListNumber(head):\n",
    "    current = head\n",
    "    \n",
    "    # Iterate over the linked list to find second last node\n",
    "    while current.next.next:\n",
    "        current = current.next\n",
    "\n",
    "    # Increment the last node by 1 and join it from the second last node    \n",
    "    sum = current.next.data + 1\n",
    "\n",
    "    if sum > 9:\n",
    "        current.next = Node(1)\n",
    "        current = current.next\n",
    "        current.next = Node(0)\n",
    "    else:\n",
    "        current.next = Node(sum)\n",
    "\n",
    "    # Return the head after updating\n",
    "    return head\n",
    "\n",
    "\n",
    "# Driver code\n",
    "head = Node(1, Node(2, Node(3, Node(9))))\n",
    "result = addOneToLinkedListNumber(head)\n",
    "traverse(result)"
   ]
  },
  {
   "cell_type": "markdown",
   "metadata": {},
   "source": [
    "### **Arrays**"
   ]
  },
  {
   "cell_type": "markdown",
   "metadata": {},
   "source": [
    "**Problem 14:** Given a sorted array and a target value, return the index if the target is found. If not, return the index where it would be inserted.\n",
    "\n",
    "**Solution:** "
   ]
  },
  {
   "cell_type": "code",
   "execution_count": 2,
   "metadata": {},
   "outputs": [
    {
     "name": "stdout",
     "output_type": "stream",
     "text": [
      "2\n"
     ]
    }
   ],
   "source": [
    "# Time complexity: O(logn), where 'n' is the size of the array.\n",
    "# Space complexity: O(1), only constant additional space is used for pointers and variables.\n",
    "\n",
    "# Function to search target element in a sorted array\n",
    "# If target element found return its index, otherwise return at which index it should be inserted.\n",
    "def search_insert_position(nums, target):\n",
    "    # If nums is empty, return 0, no other element for compare\n",
    "    if not nums:\n",
    "        return 0\n",
    "    \n",
    "    # Initialise pointers\n",
    "    left, right = 0, len(nums)-1\n",
    "\n",
    "    # Perform binary search to find target element\n",
    "    while left <= right:\n",
    "        mid = left + (right-left)//2\n",
    "\n",
    "        # If target found, return its index\n",
    "        if nums[mid] == target:\n",
    "            return mid\n",
    "        \n",
    "        # Move pointer according to following condition\n",
    "        elif nums[mid] > target:\n",
    "            right = mid-1\n",
    "        else:\n",
    "            left = mid + 1\n",
    "    \n",
    "    # If the target is not found, 'left' will be the index where it should be inserted\n",
    "    return left\n",
    "\n",
    "# Driver code\n",
    "sorted_arr = [1, 2, 5, 7]\n",
    "target = 3\n",
    "result = search_insert_position(sorted_arr, target)\n",
    "\n",
    "# Print the result\n",
    "print(result)"
   ]
  },
  {
   "cell_type": "markdown",
   "metadata": {},
   "source": [
    "**Problem 15:** Find the minimum element in a roated sorted array.\n",
    "\n",
    "**Solution:**"
   ]
  },
  {
   "cell_type": "code",
   "execution_count": 8,
   "metadata": {},
   "outputs": [
    {
     "name": "stdout",
     "output_type": "stream",
     "text": [
      "Minimmum element: 0\n"
     ]
    }
   ],
   "source": [
    "# Time complexity: O(logn), where 'n' is the size of the array.\n",
    "# Space complexity: O(1), only additional constant space is used for pointers and vairiables.\n",
    "\n",
    "# Function to find the minimum element in a roated sorted array.\n",
    "def find_minimum_in_rotated_array(nums):\n",
    "    # Check if array is empty, return none as there is not element.\n",
    "    if not nums:\n",
    "        return None\n",
    "    \n",
    "    # Initialise pointers\n",
    "    left, right = 0, len(nums)-1\n",
    "\n",
    "    # Perfor binary search to find minimum element.\n",
    "    while left <= right:\n",
    "        mid = left + (right-left)//2\n",
    "        \n",
    "        # Minimum element will be smaller from the previous one.\n",
    "        if nums[mid] <= nums[mid-1]:\n",
    "            return nums[mid]\n",
    "        \n",
    "        # Move pointers according to satisfied condition.\n",
    "        elif nums[left] > nums[right]:\n",
    "            left = mid + 1\n",
    "        else:\n",
    "            right = mid -1\n",
    "\n",
    "# Driver code\n",
    "sorted_roated_arr = [1, 2, 4, 5, 0]\n",
    "result = find_minimum_in_rotated_array(sorted_roated_arr)\n",
    "\n",
    "# Print the result\n",
    "print(\"Minimmum element:\", result)"
   ]
  },
  {
   "cell_type": "markdown",
   "metadata": {},
   "source": [
    "**Problem 16:** Search for a target value in a roated sorted array.\n",
    "\n",
    "**Solution:**"
   ]
  },
  {
   "cell_type": "code",
   "execution_count": 9,
   "metadata": {},
   "outputs": [
    {
     "name": "stdout",
     "output_type": "stream",
     "text": [
      "3\n"
     ]
    }
   ],
   "source": [
    "# Time complexity: O(logn), where 'n' is the size of the array\n",
    "# Space complexity: O(1), only constant additional space is used.\n",
    "\n",
    "# Function to search target element in an input sorted roated array\n",
    "def search_rotated_arr(nums, target):\n",
    "    # Check if array is empty, return -1 as there is not target element.\n",
    "    if not nums:\n",
    "        return -1\n",
    "    \n",
    "    # Initialise pointers\n",
    "    left, right = 0, len(nums)-1\n",
    "\n",
    "    # Perform binary search to find the target element\n",
    "    while left <= right:\n",
    "        mid = left + (right - left)//2\n",
    "\n",
    "        # If target element found, return its index\n",
    "        if nums[mid] == target:\n",
    "            return mid\n",
    "        \n",
    "        # If the left half is sorted\n",
    "        elif nums[left] <= nums[mid]:\n",
    "            if nums[left] <= target < nums[mid]:\n",
    "                right = mid - 1\n",
    "            else:\n",
    "                left = mid + 1\n",
    "        \n",
    "        # If the right half is sorted\n",
    "        else:\n",
    "            if nums[mid] < target <= nums[right]:\n",
    "                left = mid + 1\n",
    "            else:\n",
    "                right = mid-1\n",
    "    \n",
    "    # Return -1, if the target element not found\n",
    "    return -1\n",
    "\n",
    "# Driver code\n",
    "sorted_roated_arr = [5, 6, 7, 1, 2, 3]\n",
    "target = 1\n",
    "result = search_rotated_arr(sorted_roated_arr, target)\n",
    "\n",
    "# Print the result\n",
    "print(result)"
   ]
  },
  {
   "cell_type": "markdown",
   "metadata": {},
   "source": [
    "**Problem 17:** Find the peak element in an array. A peak element is greater than its neighbours.\n",
    "\n",
    "**Solution:**"
   ]
  },
  {
   "cell_type": "code",
   "execution_count": 15,
   "metadata": {},
   "outputs": [
    {
     "name": "stdout",
     "output_type": "stream",
     "text": [
      "0 (index of peak element)\n"
     ]
    }
   ],
   "source": [
    "# Time complexity: O(n), where 'n' is the size of the input array.\n",
    "# Space complexity: O(1), Only constant additional space is used.\n",
    "def find_peak_element(nums):\n",
    "    # Check if the array is empty, return None as there is no elements to search for peak.\n",
    "    if not nums:\n",
    "        return None\n",
    "    \n",
    "    # Calculating length of the input nums\n",
    "    n = len(nums)\n",
    "\n",
    "    # Searching peak element on the edge cases\n",
    "    if (n == 1) or (nums[0] > nums[1]):\n",
    "        return 0\n",
    "    elif nums[-1] > nums[-2]:\n",
    "        return n-1\n",
    "    \n",
    "    # Searcing peak element in middle of the edge cases\n",
    "    for i in range(1, n-1):\n",
    "        # A peak element will be greater than its neighbors.\n",
    "        if nums[i] > nums[i-1] and nums[i] > nums[i+1]:\n",
    "            return i\n",
    "    \n",
    "    return None # If peak element's condidtion not staisfied.\n",
    "\n",
    "# Driver code\n",
    "given_nums = [4, 2, 3, 2]\n",
    "result = find_peak_element(given_nums)\n",
    "\n",
    "# Print the result\n",
    "print(f\"{result} (index of peak element)\")"
   ]
  },
  {
   "cell_type": "markdown",
   "metadata": {},
   "source": [
    "**Problem 18:** Given a m x n matrix where each row and column is sorted in ascending order, count the number of negative numbers.\n",
    "\n",
    "**Solution:**"
   ]
  },
  {
   "cell_type": "code",
   "execution_count": 5,
   "metadata": {},
   "outputs": [
    {
     "name": "stdout",
     "output_type": "stream",
     "text": [
      "8\n"
     ]
    }
   ],
   "source": [
    "# Time complexity: O(m * n), where 'm' and 'n' are the rows and cols of the input matrix.\n",
    "# Space complexity: O(1), only constant additional space is used.\n",
    "\n",
    "def count_negative(matrix):\n",
    "    \"\"\"\n",
    "    Count to total negative numbers in matrix.\n",
    "\n",
    "    Parameters:\n",
    "    - matrix : Matrix containing numerical data type.\n",
    "\n",
    "    Returns:\n",
    "    - int : Total negative numbers in the matrix.\n",
    "    \"\"\"\n",
    "    return sum(1 for row in matrix for element in row if element < 0)\n",
    "\n",
    "# Driver code\n",
    "matrix = [[4, 3, 2, -1], [3, 2, 1, -1], [1, 1, -1, -2], [-1, -1, -2, -3]]\n",
    "result = count_negative(matrix)\n",
    "print(result)"
   ]
  },
  {
   "cell_type": "markdown",
   "metadata": {},
   "source": [
    "**Problem 19:** Given a 2D matrix sorted in ascending order in each row, and the first integer of each row is greater than the last integers of the previous row, determine if a target value is present in the matrix.\n",
    "\n",
    "**Solution:**"
   ]
  },
  {
   "cell_type": "code",
   "execution_count": 27,
   "metadata": {},
   "outputs": [
    {
     "name": "stdout",
     "output_type": "stream",
     "text": [
      "False\n"
     ]
    }
   ],
   "source": [
    "# Time complexity: O(logm + logn), where 'm' and 'n' are the rows and columns of the input matrix.\n",
    "# Space complexity: O(1), only constant additional spaces are used for variables and pointers.\n",
    "\n",
    "# Function to search target element in the input matrix.\n",
    "# Input matrix must be sorted and first integer of each row will be greater than the last integers of the prevoius row.\n",
    "# The function uses binary search to efficiently search the target element\n",
    "def search_target(matrix, target):\n",
    "    # If either matrix or matrix element is empty, return False as there is no target element\n",
    "    if not matrix or not matrix[0]:\n",
    "        return False\n",
    "    \n",
    "    # Initialize pointers and variables\n",
    "    rows, cols = len(matrix), len(matrix[0])\n",
    "    left, right = 0, rows*cols-1\n",
    "\n",
    "    # Perform binary search to search for target element, if found return True\n",
    "    while left <= right:\n",
    "        mid = left + (right-left)//2\n",
    "\n",
    "        if matrix[mid // cols][mid % cols] == target:\n",
    "            return True\n",
    "        elif matrix[mid // cols][mid % cols] > target:\n",
    "            right = mid-1\n",
    "        else:\n",
    "            left = mid + 1\n",
    "    \n",
    "    # Return false, if target element not found\n",
    "    return False\n",
    "\n",
    "# Driver code\n",
    "sorted_matrix = [[1, 2, 3], [4, 5, 6], [7, 8, 9]]\n",
    "target = 90\n",
    "result = search_target(sorted_matrix, target)\n",
    "\n",
    "# Print the result\n",
    "print(result) "
   ]
  },
  {
   "cell_type": "markdown",
   "metadata": {},
   "source": [
    "**Problem 20:** Given two sorted arrays, find the median of the combined sorted array.\n",
    "\n",
    "**Solution:**"
   ]
  },
  {
   "cell_type": "code",
   "execution_count": 2,
   "metadata": {},
   "outputs": [
    {
     "name": "stdout",
     "output_type": "stream",
     "text": [
      "Median of combined sorted array: 6.5\n"
     ]
    }
   ],
   "source": [
    "# Time complexity: O(m + n), where m and n are the size of the input arrays\n",
    "# Space complexity: O(m + n), where m and n are the size of the input arrays\n",
    "\n",
    "def combined_sorted_arr(arr1, arr2):\n",
    "    \"\"\"\n",
    "    Combine two sorted arrays into a single sorted array.\n",
    "\n",
    "    Args:\n",
    "        arr1 (list): The first sorted array.\n",
    "        arr2 (list): The second sorted array.\n",
    "    \n",
    "    Returns:\n",
    "        list: The combined sorted array.\n",
    "    \"\"\"\n",
    "     # Algorithm for combining two sorted arrays into a single sorted array.\n",
    "    combined = []\n",
    "    len1 ,len2 = len(arr1), len(arr2)\n",
    "    i = j = 0\n",
    "\n",
    "    while i < len1 and j < len2:\n",
    "        if arr1[i] < arr2[j]:\n",
    "            combined.append(arr1[i])\n",
    "            i += 1\n",
    "        else:\n",
    "            combined.append(arr2[j])\n",
    "            j += 1\n",
    "    \n",
    "    while i < len1:\n",
    "        combined.append(arr1[i])\n",
    "        i += 1\n",
    "    \n",
    "    while j < len2:\n",
    "        combined.append(arr2[j])\n",
    "        j += 1\n",
    "\n",
    "    return combined\n",
    "\n",
    "def find_median_sorted_arrs(arr1, arr2):\n",
    "    \"\"\"\n",
    "    Find the median of the combined sorted array of two input sorted arrays.\n",
    "\n",
    "    Args:\n",
    "        arr1 (list1): The first sorted array.\n",
    "        arr2 (list2): The second sorted array.\n",
    "    \n",
    "    Returns:\n",
    "        float: Thre median of the combined sorted array.\n",
    "    \"\"\"\n",
    "    # calling 'combined_sorted_arr()' to combine the arrays\n",
    "    combined = combined_sorted_arr(arr1, arr2)\n",
    "    combined_len = len(combined)\n",
    "\n",
    "    # If combined_len is odd, median will be the middle most element in the combined arr.\n",
    "    # Otherwise, it will be the average of the middle most elements in the combined arr\n",
    "    if combined_len % 2 != 0:\n",
    "        median = combined[combined_len//2]\n",
    "    \n",
    "    else:\n",
    "        mid1 = combined_len//2 - 1 \n",
    "        mid2 = combined_len // 2\n",
    "        median = (combined[mid1] + combined[mid2]) / 2\n",
    "\n",
    "    return median\n",
    "   \n",
    "# Driver code\n",
    "sorted_arr1 = [5, 8, 9]\n",
    "sorted_arr2 = [1, 6, 7]\n",
    "result = find_median_sorted_arrs(sorted_arr1, sorted_arr2)\n",
    "\n",
    "# Print the result.\n",
    "print(f\"Median of combined sorted array: {result}\")"
   ]
  },
  {
   "cell_type": "markdown",
   "metadata": {},
   "source": [
    "**Problem 21:** Given a sorted character array and a target letter, find the smallest letter in the array that is greater than the target.\n",
    "\n",
    "**Solution:**"
   ]
  },
  {
   "cell_type": "code",
   "execution_count": 4,
   "metadata": {},
   "outputs": [
    {
     "name": "stdout",
     "output_type": "stream",
     "text": [
      "The smallest letter greater than 'i is 'k'.\n"
     ]
    }
   ],
   "source": [
    "# Time complexity: O(logn), where 'n' is the size of given list of letters.\n",
    "# Space complexity: O(1), only constant additional space is used for variables and pointers.\n",
    "\n",
    "# Function to find the smallest letter greater than the target letter in a sorted array of letters.\n",
    "# The function uses binary search to efficiently locate the smallest greater letter.\n",
    "def smallest_greater_letter(letters, target):\n",
    "    # Check for an empty array; if true, return None as there is not greater letter.\n",
    "    if not letters:\n",
    "        return None\n",
    "    \n",
    "    # Initialize low and high pointers for binary search.\n",
    "    low, high = 0, len(letters) - 1\n",
    "\n",
    "    # Perform binary search to find the smallest greater letter.\n",
    "    while low < high:\n",
    "        mid = low + (high -  low)//2\n",
    "\n",
    "        # If the middle letter is less or equal to the target, update the low pointer.\n",
    "        if letters[mid] <= target:\n",
    "            low = mid + 1\n",
    "        # If the middle letter is greater thatn the target, update the high pointer.\n",
    "        else:\n",
    "            high = mid\n",
    "    \n",
    "    # Return the smallest greater letter found, or None if not found.\n",
    "    return letters[low] if letters[low] > target else None\n",
    "\n",
    "# Driver code\n",
    "sorted_letters = ['a', 'c', 'f', 'k']\n",
    "target_letter = 'i'\n",
    "result = smallest_greater_letter(sorted_letters, target_letter)\n",
    "\n",
    "# Print the result\n",
    "print(f\"The smallest letter greater than '{target_letter} is '{result}'.\")"
   ]
  },
  {
   "cell_type": "markdown",
   "metadata": {},
   "source": [
    "**Problem 22:** Given an array with n objects colered red, white, or blue, sort them in-place so that objects of the same color are adjacent, with the clors in the order red, white, and blue.\n",
    "\n",
    "**solution:**"
   ]
  },
  {
   "cell_type": "code",
   "execution_count": 14,
   "metadata": {},
   "outputs": [
    {
     "name": "stdout",
     "output_type": "stream",
     "text": [
      "[0, 0, 0, 0, 1, 1, 1, 1, 2, 2, 2]\n"
     ]
    }
   ],
   "source": [
    "# Time complexity: O(n), where 'n' is the size of the array\n",
    "# Space complexity: O(1), only constant additional space is used for pointers\n",
    "\n",
    "# Function to sort an array of colors (0s, 1s, and 2s) in-place using the Dutch National Flag algorithm.\n",
    "# The function initalizes three pointers (left, mid, and right) and iterates through the array,\n",
    "# Swapping elements based on their values to acheive the desired order.\n",
    "def sort_colors(arr):\n",
    "    # Check for an empty array; if true, return the array as it is already sorted.\n",
    "    if not arr:\n",
    "        return arr\n",
    "    \n",
    "    # Initialize pointer for three sections: 0s (left), 1s (mid), and 2s (right).\n",
    "    left, mid, right = 0, 0, len(arr)-1\n",
    "\n",
    "    # Iterate throught the array until the mid pointer reaches the right pointer.\n",
    "    while mid <= right:\n",
    "        # If the current element is 0, swap with the left pointers and move both left and mid pointers.\n",
    "        if arr[mid] == 0:\n",
    "            arr[left], arr[mid] = arr[mid], arr[left]\n",
    "            left += 1\n",
    "            mid += 1\n",
    "        \n",
    "        # If the current element is 2, swap with the right pointers and move the right pointer.\n",
    "        elif arr[mid] == 2:\n",
    "            arr[mid], arr[right] = arr[right], arr[mid]\n",
    "            right -= 1\n",
    "        \n",
    "        # If the current element is 1, move the mid pointer without swapping\n",
    "        else:\n",
    "            mid += 1\n",
    "    \n",
    "    # Return the sorted array.\n",
    "    return arr\n",
    "\n",
    "# Driver code\n",
    "nums = [1, 2, 1, 0, 1, 0, 0, 2, 2, 1, 0]\n",
    "result = sort_colors(nums)\n",
    "\n",
    "# Print the result\n",
    "print(result)"
   ]
  },
  {
   "cell_type": "markdown",
   "metadata": {},
   "source": [
    "**Problem 23:** Find the kth largest element in an unsorted array.\n",
    "\n",
    "**Solution:**"
   ]
  },
  {
   "cell_type": "code",
   "execution_count": 4,
   "metadata": {},
   "outputs": [
    {
     "name": "stdout",
     "output_type": "stream",
     "text": [
      "6\n"
     ]
    }
   ],
   "source": [
    "# Time complexity: O(n^2), where 'n' is the size of the input array.\n",
    "# Space complexity: O(n), where 'n' is the size of the input array.\n",
    "\n",
    "def selection_sort(nums):\n",
    "    \"\"\"\n",
    "    Sorts the input list in ascending order using the Selection Sort algorithm.\n",
    "\n",
    "    Parameters:\n",
    "    - nums (list): The list of comparable elements to be sorted.\n",
    "\n",
    "    Returns:\n",
    "    - list: The sorted list in ascending order.\n",
    "    \"\"\"\n",
    "    n = len(nums)\n",
    "    if n < 2:\n",
    "        return nums\n",
    "    for i in range(n):\n",
    "        min = i\n",
    "        for  j in range(i+1, n):\n",
    "            if nums[min] > nums[j]:\n",
    "                min = j\n",
    "        nums[i], nums[min] = nums[min], nums[i]\n",
    "    return nums\n",
    "\n",
    "def find_kth_largest_element(nums, k):\n",
    "    \"\"\"\n",
    "    Finds the kth largest element in the given list.\n",
    "\n",
    "    Parameters:\n",
    "    - nums (list): The list of comparable elements.\n",
    "    - k (int): The position of the desired largest element (1-based indes).\n",
    "\n",
    "    Returns:\n",
    "    - int or str: The kth largest element if found, or an error message if k is out of bounds.\n",
    "    \"\"\"\n",
    "    if not (isinstance(k, int) and 1 <= k <= len(nums)):\n",
    "        return \"Error: Invalid index\"\n",
    "    sorted_arr = selection_sort(nums)\n",
    "    return sorted_arr[-k]\n",
    "\n",
    "# Driver code\n",
    "result = find_kth_largest_element([7, 3, 1, 9, 6], 3)\n",
    "print(result)"
   ]
  },
  {
   "cell_type": "markdown",
   "metadata": {},
   "source": [
    "**Problem 24:** Given an unsorted array, reorder it in-place such that nums[0] <= nums[1] >= nums[2] <= nums[3] ...\n",
    "\n",
    "**Solution:**"
   ]
  },
  {
   "cell_type": "code",
   "execution_count": 11,
   "metadata": {},
   "outputs": [
    {
     "name": "stdout",
     "output_type": "stream",
     "text": [
      "[1, 6, 3, 7, 5, 8]\n"
     ]
    }
   ],
   "source": [
    "# Time complexity: O(n), where 'n' is the size of the array\n",
    "# Space complexity: O(1), in-place/constant\n",
    "\n",
    "# Function to reorder an unsorted array in-place such that nums[0] <= nums[1] >= nums[2] ...\n",
    "# The function uses a loop to iterate through the array by pairs and swaps elements as needed.\n",
    "def min_max_sort(arr):\n",
    "    # Check if the array has one or zero elements; if true, return the array as it is already sorted.\n",
    "    if len(arr) <= 1:\n",
    "        return arr\n",
    "    \n",
    "    # Iterate through the array by pairs (every two elements).\n",
    "    for i in range(1, len(arr), 2):\n",
    "        # Swap elements if the current element is smaller than the previous one.\n",
    "        if arr[i] < arr[i-1]:\n",
    "            arr[i], arr[i-1] = arr[i-1], arr[i]\n",
    "        \n",
    "        # swap elements if the current element is smaller than the next one (if not at the end of the array)\n",
    "        if i < len(arr)-1 and arr[i] < arr[i+1]:\n",
    "            arr[i], arr[i+1] = arr[i+1], arr[i]\n",
    "    \n",
    "    # Return the reordered array.\n",
    "    return arr\n",
    "\n",
    "# Driver code\n",
    "input_arr = [5, 1, 6, 3, 7, 8]\n",
    "result = min_max_sort(input_arr)\n",
    "print(result)"
   ]
  },
  {
   "cell_type": "markdown",
   "metadata": {},
   "source": [
    "**Problem 25:** Given an array of integers, calculate the sum of all its elements.\n",
    "\n",
    "**Solution:**"
   ]
  },
  {
   "cell_type": "code",
   "execution_count": 5,
   "metadata": {},
   "outputs": [
    {
     "name": "stdout",
     "output_type": "stream",
     "text": [
      "Total sum = 18\n"
     ]
    }
   ],
   "source": [
    "# Time complexity: O(logn), where 'n' is the size of the array\n",
    "# Space complexity: O(1), constant additional space is used for variables and pointers.\n",
    "\n",
    "# Function for calculate sum of all elements of an input array\n",
    "def calculate_sum(arr):\n",
    "    # Check for an empty array; if true, return 0 \n",
    "    if not arr:\n",
    "        return 0\n",
    "    \n",
    "    # Initialise pointer and variables\n",
    "    left, right = 0, len(arr)-1\n",
    "    total_sum = 0\n",
    "\n",
    "    # Iterate through the array summing pairs and moving pointers towards the center.\n",
    "    while left < right:\n",
    "        total_sum += (arr[left] + arr[right])\n",
    "        left += 1\n",
    "        right -= 1\n",
    "    \n",
    "    # If the array length  is odd, add the middle element to the total_sum.\n",
    "    return total_sum if len(arr) % 2 == 0 else total_sum + arr[len(arr)//2]\n",
    "\n",
    "# Driver code\n",
    "input_arr = [2, 1, 4, 5, 6]\n",
    "result = calculate_sum(input_arr)\n",
    "\n",
    "# Print the result\n",
    "print(f\"Total sum = {result}\")"
   ]
  },
  {
   "cell_type": "markdown",
   "metadata": {},
   "source": [
    "**Problem 26:** Find the maximum element in an array of integers.\n",
    "\n",
    "**Solution:**"
   ]
  },
  {
   "cell_type": "code",
   "execution_count": 3,
   "metadata": {},
   "outputs": [
    {
     "name": "stdout",
     "output_type": "stream",
     "text": [
      "The maximum element in the given array is: 7\n"
     ]
    }
   ],
   "source": [
    "# Time complexity: O(n), where 'n' is the size of the array\n",
    "# Space complexity: O(1), only constant additional space is used for variables.\n",
    "\n",
    "# Function for finding maximum element from a given array. \n",
    "def find_max(arr):\n",
    "    # Check for an empty array\n",
    "    if not arr:\n",
    "        return None\n",
    "    \n",
    "    # Initialise a variable to store maximum element\n",
    "    max_val = arr[0]\n",
    "\n",
    "    # Iterate through the array and update 'max_val' if a larger element if found.\n",
    "    for num in arr:\n",
    "        if max_val < num:\n",
    "            max_val = num\n",
    "    \n",
    "    return max_val  # Return the maximum element of the array\n",
    "\n",
    "# Driver code\n",
    "input_arr = [3, 1, 5, 7, 2]\n",
    "result = find_max(input_arr)\n",
    "print(f\"The maximum element in the given array is: {result}\")"
   ]
  },
  {
   "cell_type": "markdown",
   "metadata": {},
   "source": [
    "**Problem 27:** Implement linear search to find the index of a target element in an array.\n",
    "\n",
    "**Solution:**"
   ]
  },
  {
   "cell_type": "code",
   "execution_count": 5,
   "metadata": {},
   "outputs": [
    {
     "name": "stdout",
     "output_type": "stream",
     "text": [
      "Element '8' is present at index: 3\n"
     ]
    }
   ],
   "source": [
    "# Time complexity: O(n), where 'n' is the size of the array\n",
    "# Space complexity: O(1), constant space\n",
    "\n",
    "# Function to find the index of the target element in a given array. \n",
    "def search_element(arr, target):\n",
    "    # If array is empty\n",
    "    if not arr:\n",
    "        return -1\n",
    "    \n",
    "    # Iterate through array to search index of the target element\n",
    "    for i in range(0, len(arr)):\n",
    "        \n",
    "        # Return 'i' if the current element is equal to the target element.\n",
    "        if arr[i] == target:\n",
    "            return i\n",
    "    \n",
    "    # If target element is not present in the given array.\n",
    "    return -1\n",
    "\n",
    "# Driver code\n",
    "input_arr = [4, 3, 7, 8, 1]\n",
    "target = 8\n",
    "\n",
    "result = search_element(input_arr, target)\n",
    "print(f\"Element '{target}' is present at index: {result}\")"
   ]
  },
  {
   "cell_type": "markdown",
   "metadata": {},
   "source": [
    "**Problem 28:** Calculate the factorial of a given number.\n",
    "\n",
    "**Solution:**"
   ]
  },
  {
   "cell_type": "code",
   "execution_count": 11,
   "metadata": {},
   "outputs": [
    {
     "name": "stdout",
     "output_type": "stream",
     "text": [
      "5! = 120\n"
     ]
    }
   ],
   "source": [
    "# Time complexity: O(n), where 'n' is the given number\n",
    "# Space complexity: O(1), only constant additional space is used for variables\n",
    "\n",
    "# Function to calculate the factorial of a given number.\n",
    "def factorial(num):\n",
    "    # Initialize the product to 1, as the factorial of 0 and 1 is 1.\n",
    "    product = 1  \n",
    "\n",
    "    # Iterate through numbers from 1 to 'num' (inclusive) and multiply each with the product.\n",
    "    for i in range(1, num + 1):\n",
    "        product *= i\n",
    "    \n",
    "    # Return the final product, which represents the factorial of the input number.\n",
    "    return product\n",
    "\n",
    "# Driver code.\n",
    "input_num = 5\n",
    "result = factorial(input_num)\n",
    "print(f\"{input_num}! = {result}\")"
   ]
  },
  {
   "cell_type": "markdown",
   "metadata": {},
   "source": [
    "**Problem 29:** Check if  a given number is a prime number.\n",
    "\n",
    "**Solution:**"
   ]
  },
  {
   "cell_type": "code",
   "execution_count": 6,
   "metadata": {},
   "outputs": [
    {
     "data": {
      "text/plain": [
       "True"
      ]
     },
     "execution_count": 6,
     "metadata": {},
     "output_type": "execute_result"
    }
   ],
   "source": [
    "# Time complexity: O(n^0.5), where 'n' is the given number\n",
    "# Sace complexity: O(1), constant space\n",
    "\n",
    "# Function to check is given number is prime or not\n",
    "def is_prime(num):\n",
    "    # Prime numbers are always a natural number.\n",
    "    if num <= 0:\n",
    "        return False\n",
    "    \n",
    "    # If num is not divisible from 2 to int(num^0.5) + 1, then it is prime number, by formula.\n",
    "    for i in range(2, int(num**0.5)+1):\n",
    "        if num % i == 0:\n",
    "            return False\n",
    "    return True\n",
    "\n",
    "# Driver code to check is 3 is prime number or not.\n",
    "is_prime(3)"
   ]
  },
  {
   "cell_type": "markdown",
   "metadata": {},
   "source": [
    "**Problem 30:** Generate the Fibonacci series up to a given number n.\n",
    "\n",
    "**Solution:**"
   ]
  },
  {
   "cell_type": "code",
   "execution_count": 4,
   "metadata": {},
   "outputs": [
    {
     "data": {
      "text/plain": [
       "[0, 1, 1, 2, 3]"
      ]
     },
     "execution_count": 4,
     "metadata": {},
     "output_type": "execute_result"
    }
   ],
   "source": [
    "# Time complexity: O(n), where 'n' is the number of fibonacci numbers to generate.\n",
    "# Space complexity: O(n), where 'n' is the number of fibonacci numbers to generate.\n",
    "\n",
    "# Function to genereate the first 'n' Fibonacci numbers.\n",
    "def fibonacci(n, prev=0, currrent=1, fibo_series=None):\n",
    "    if fibo_series is None:\n",
    "        fibo_series = []\n",
    "    \n",
    "    if n == 0:\n",
    "        # If n is 0, return an empty list as there are no Fibonacci numbers.\n",
    "        return fibo_series\n",
    "    elif n == 1:\n",
    "        # IF n is 1, return a list with the first Fibonacci number (prev).\n",
    "        fibo_series.append(prev)\n",
    "        return fibo_series\n",
    "    else:\n",
    "        # Generate the Fibonacci series recursively, for n > 1.\n",
    "        next = prev + currrent\n",
    "        fibo_series.append(prev)\n",
    "        return fibonacci(n-1, currrent, next, fibo_series)\n",
    "    \n",
    "# Driver code to generate Fibonacci series with n == 5\n",
    "fibonacci(5)"
   ]
  },
  {
   "cell_type": "markdown",
   "metadata": {},
   "source": [
    "**Problem 31:** Calculate the power of a number using recursion.\n",
    "\n",
    "**Solution:**"
   ]
  },
  {
   "cell_type": "code",
   "execution_count": 34,
   "metadata": {},
   "outputs": [
    {
     "name": "stdout",
     "output_type": "stream",
     "text": [
      "4.0 riase to the power 2 is: 16.0\n"
     ]
    }
   ],
   "source": [
    "# Time complexity: O(log(n)), where 'n' is the exponent.\n",
    "# Space complexity: O(log(n)), where 'n' is the exponent.\n",
    "\n",
    "# Method defination\n",
    "def power(num, expo):\n",
    "    if expo == 0:\n",
    "        # Any number raised to the power of 0 is 1.\n",
    "        return 1\n",
    "    \n",
    "    elif expo < 0:\n",
    "        # For negative exponents, utilize the property: num^(-a) = 1 / num^a\n",
    "        return 1 / power(num, -expo)\n",
    "    else:\n",
    "        # Divide and conquer approach for efficinecy:\n",
    "        # Split the exponent into halves, recursively compute the result,\n",
    "        # and combine the results based on wheter the exponent is even or odd.\n",
    "        mid = expo // 2\n",
    "        result = power(num, mid)\n",
    "\n",
    "        if expo % 2 == 0:\n",
    "            # If the exponent is odd, square the result.\n",
    "            final_result = result ** 2\n",
    "        else:\n",
    "            # If the exponenet is odd, square the result and miltiply by the base number.\n",
    "            final_result = (result ** 2) * num\n",
    "    \n",
    "    # Return the final result\n",
    "    return final_result\n",
    "\n",
    "# Driver code\n",
    "base = 4.0\n",
    "exponent = 2\n",
    "\n",
    "result = power(base, exponent)\n",
    "print(f\"{base} riase to the power {exponent} is: {result}\")"
   ]
  },
  {
   "cell_type": "markdown",
   "metadata": {},
   "source": [
    "**Problem 32:** Reverse a given string.\n",
    "\n",
    "**Solution:**"
   ]
  },
  {
   "cell_type": "code",
   "execution_count": 6,
   "metadata": {},
   "outputs": [
    {
     "data": {
      "text/plain": [
       "'gninraeL enihcaM'"
      ]
     },
     "execution_count": 6,
     "metadata": {},
     "output_type": "execute_result"
    }
   ],
   "source": [
    "# Time complexity: O(n), where 'n' is the length of the input string\n",
    "# Space complexity: O(n), where 'n' is the length of the input string\n",
    "def rerverse_string(string):\n",
    "    \"\"\"\n",
    "    Reverse the given string using recursion.\n",
    "\n",
    "    Args:\n",
    "    - string (str): Given string\n",
    "\n",
    "    Return:\n",
    "    - str: Reverse of the given string\n",
    "    \"\"\"\n",
    "    # Base conditon: if length is less than 1, no need to reverse\n",
    "    if len(string) <= 1:\n",
    "        return string\n",
    "    \n",
    "    # Making recurcive call\n",
    "    return string[-1] + rerverse_string(string[:-1])\n",
    "\n",
    "# Driver code\n",
    "rerverse_string(\"Machine Learning\")"
   ]
  }
 ],
 "metadata": {
  "kernelspec": {
   "display_name": "Python 3",
   "language": "python",
   "name": "python3"
  },
  "language_info": {
   "codemirror_mode": {
    "name": "ipython",
    "version": 3
   },
   "file_extension": ".py",
   "mimetype": "text/x-python",
   "name": "python",
   "nbconvert_exporter": "python",
   "pygments_lexer": "ipython3",
   "version": "3.11.5"
  }
 },
 "nbformat": 4,
 "nbformat_minor": 2
}
