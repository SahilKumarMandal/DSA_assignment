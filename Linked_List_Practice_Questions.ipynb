{
 "cells": [
  {
   "cell_type": "markdown",
   "metadata": {},
   "source": [
    "### **Helper**"
   ]
  },
  {
   "cell_type": "code",
   "execution_count": 1,
   "metadata": {},
   "outputs": [],
   "source": [
    "class Node:\n",
    "    def __init__(self, data, next=None):\n",
    "        \"\"\"\n",
    "        Initializes a linked list.\n",
    "\n",
    "        Parameters:\n",
    "        - data: The data or value.\n",
    "        - next: A reference to the next node in the sequence.\n",
    "        \"\"\"\n",
    "        self.data = data\n",
    "        self.next = next\n",
    "\n",
    "def traverse(head):\n",
    "    \"\"\"\n",
    "    Traverse through a linked list, printing its elements and connections.\n",
    "\n",
    "    Parameters:\n",
    "    - head: The head node of the linked list.\n",
    "\n",
    "    Prints:\n",
    "    - Each element of the linked list, along with an arrow indidicating the next node.\n",
    "    \"\"\"\n",
    "    temp = head\n",
    "    while temp:\n",
    "        print(temp.data, end=' -> ')\n",
    "        temp = temp.next\n",
    "        \n",
    "def length(head):\n",
    "    \"\"\"\n",
    "    Length of the linked list.\n",
    "\n",
    "    Parameters:\n",
    "    - head: The head node of the linked list.\n",
    "\n",
    "    Returns:\n",
    "    - count (int): The number of nodes in the linked list.\n",
    "    \"\"\"\n",
    "    temp = head\n",
    "    count = 0\n",
    "    \n",
    "    while temp:\n",
    "        count += 1\n",
    "        temp = temp.next\n",
    "    \n",
    "    return count"
   ]
  },
  {
   "cell_type": "markdown",
   "metadata": {},
   "source": [
    "**Problem 1:** Define a doubly linked list\n",
    "\n",
    "**Solution:** A doubly linked list is a data structure that consists of a sequence of elements called nodes. Each node in a doubly linked list contains two pointers(links) instead of one, pointing to the previous and next nodes in the sequence. This bidirectional linking allows for traversal in both forward and backward directions.\n",
    "\n",
    "Here's a basic defination of a doubly linked list node in Python:"
   ]
  },
  {
   "cell_type": "code",
   "execution_count": 85,
   "metadata": {},
   "outputs": [
    {
     "name": "stdout",
     "output_type": "stream",
     "text": [
      "1 <-> 2 <-> 3 <-> 4 <-> 5 <-> None\n"
     ]
    }
   ],
   "source": [
    "class DoublyNode:\n",
    "    def __init__(self, data=None, prev=None, next=None):\n",
    "        # Doubly linked list node with data, previous, and next pointers.\n",
    "        self.data = data\n",
    "        self.prev = prev\n",
    "        self.next = next\n",
    "\n",
    "def print_doubly_linked_list(head):\n",
    "    # Print the doubly linked list in the forward direction.\n",
    "    temp = head\n",
    "    while temp:\n",
    "        print(temp.data, end=' <-> ')\n",
    "        temp = temp.next\n",
    "    print(None)\n",
    "\n",
    "# Driver code\n",
    "# Creating instances of DoublyNode\n",
    "head = DoublyNode(1)\n",
    "node2 = DoublyNode(2)\n",
    "node3 = DoublyNode(3)\n",
    "node4 = DoublyNode(4)\n",
    "node5 = DoublyNode(5)\n",
    "\n",
    "# Creating linkage between each DoublyNode instance\n",
    "head.next = node2\n",
    "node2.prev, node2.next = head, node3\n",
    "node3.prev, node3.next = node2, node4\n",
    "node4.prev, node4.next = node3, node5\n",
    "\n",
    "# Print the doubly linked list\n",
    "print_doubly_linked_list(head)"
   ]
  },
  {
   "cell_type": "markdown",
   "metadata": {},
   "source": [
    "**Problem 2:** Define a function to reverse a linked list in-place.\n",
    "\n",
    "**Solution:**"
   ]
  },
  {
   "cell_type": "code",
   "execution_count": 80,
   "metadata": {},
   "outputs": [
    {
     "name": "stdout",
     "output_type": "stream",
     "text": [
      "5 -> 4 -> 3 -> 2 -> 1 -> "
     ]
    }
   ],
   "source": [
    "# Time complexity: O(n), where 'n' is the size of the input linked list.\n",
    "# Space complexity: O(1), only constant additional space is used.\n",
    "\n",
    "def reverse(lst):\n",
    "    # Initialize pointers: 'prev' is initially None, and 'current' starts at the head of the list.\n",
    "    prev, current = None, lst\n",
    "\n",
    "    # Traverse the linked list.\n",
    "    while current:\n",
    "        # Store the next node in a temporary variable.\n",
    "        next_node = current.next\n",
    "        # Reverse the direction of the current node by updating its next pointer.\n",
    "        current.next = prev\n",
    "        # Move 'prev' and 'current' pointers one step forward.\n",
    "        prev = current\n",
    "        current = next_node\n",
    "\n",
    "    # 'prev' now points to the new head of the reversed linked list.\n",
    "    return prev\n",
    "\n",
    "# Driver code\n",
    "lst = Node(1, Node(2, Node(3, Node(4, Node(5)))))\n",
    "result = reverse(lst)\n",
    "traverse(result)"
   ]
  },
  {
   "cell_type": "markdown",
   "metadata": {},
   "source": [
    "**Problem 3:** Detect cycle in a linked list\n",
    "\n",
    "**Solution:**"
   ]
  },
  {
   "cell_type": "code",
   "execution_count": 79,
   "metadata": {},
   "outputs": [
    {
     "name": "stdout",
     "output_type": "stream",
     "text": [
      "True\n"
     ]
    }
   ],
   "source": [
    "# Time complexity: O(n/2), where 'n' is the size of the input linked list.\n",
    "# Space complexity: O(1), only constant additional space is used.\n",
    "\n",
    "def has_cycle(head):\n",
    "    # Check for empty list or a list with only one node (no cycle possible).\n",
    "    if not head or not head.next:\n",
    "        return False\n",
    "    \n",
    "    # Initialize two pointers, 'fast' and 'slow', both starting at the head of the list.\n",
    "    fast = slow = head\n",
    "\n",
    "    # Traverse the list using two pointers.\n",
    "    while fast.next and fast.next.next:\n",
    "        # Move 'fast' two steps at a time.\n",
    "        fast = fast.next.next\n",
    "        # Move 'slow' one step at a time.\n",
    "        slow = slow.next\n",
    "\n",
    "        # Check if 'fast' and 'slow' pointers meet at the same node (cycle detected).\n",
    "        if fast == slow:\n",
    "            return True\n",
    "\n",
    "    # If 'fast' reaches the end of the list without meeting 'slow', no cycle is detected.\n",
    "    return False\n",
    "\n",
    "# Driver code\n",
    "\n",
    "# Creating Node instances\n",
    "head = Node(1)\n",
    "node2 = Node(2)\n",
    "node3 = Node(3)\n",
    "\n",
    "# Creating linkage between each and every nodes\n",
    "head.next = node2\n",
    "node2.next = node3\n",
    "node3.next = head\n",
    "\n",
    "# Checking has cycle or not and print the obtained result\n",
    "result = has_cycle(head)\n",
    "print(result)\n"
   ]
  },
  {
   "cell_type": "markdown",
   "metadata": {},
   "source": [
    "**Problem 4:** Merged two sorted linked list into one.\n",
    "\n",
    "**Solution:**"
   ]
  },
  {
   "cell_type": "code",
   "execution_count": 76,
   "metadata": {},
   "outputs": [
    {
     "name": "stdout",
     "output_type": "stream",
     "text": [
      "1 -> 2 -> 3 -> 4 -> 5 -> 6 -> 6 -> 8 -> "
     ]
    }
   ],
   "source": [
    "# Time complexity: O(min(M, N)), where 'M' and 'N' are the size of the input linked list1 and list2\n",
    "# Space complexity: O(1), only constant additional space is used\n",
    "\n",
    "def merge_sorted_lists(lst1, lst2):\n",
    "    # Create a dummy node to represent the begining of the merged list.\n",
    "    dummy = Node(0)\n",
    "\n",
    "    # Initialize a pointer 'current' to keep track of the current position in the merged list.\n",
    "    current = dummy\n",
    "\n",
    "    # Merge the two sorted linked lists.\n",
    "    while lst1 and lst2:\n",
    "        # Compare the data of current nodes in list1 and list2.\n",
    "        if lst1.data < lst2.data:\n",
    "            # If the data in list1 is smaller, append the node from list1 to the merged list.\n",
    "            current.next = lst1\n",
    "            lst1 = lst1.next\n",
    "        else:\n",
    "            # If the data in list2 is smaller or equal, append the node from lst2 to the merged list.\n",
    "            current.next = lst2\n",
    "            lst2 = lst2.next\n",
    "        \n",
    "        # Move the 'current' pointer to the newly added node.\n",
    "        current = current.next\n",
    "    \n",
    "    # Append the remaining nodes from either lst1 or lst2 (whichever is not empty).\n",
    "    if lst1:\n",
    "        current.next = lst1\n",
    "    elif lst2:\n",
    "        current.next = lst2\n",
    "    \n",
    "    # Return the head of the merged list (excluding the dummy node).\n",
    "    return dummy.next\n",
    "\n",
    "# Driver code\n",
    "lst1 = Node(1, Node(3, Node(5, Node(6))))\n",
    "lst2 = Node(2, Node(4, Node(6, Node(8))))\n",
    "result = merge_sorted_lists(lst1, lst2)\n",
    "traverse(result)"
   ]
  },
  {
   "cell_type": "markdown",
   "metadata": {},
   "source": [
    "**Problem 5:** Write a function to remove nth node from the end in a linked list\n",
    "\n",
    "**Solution:**"
   ]
  },
  {
   "cell_type": "code",
   "execution_count": 75,
   "metadata": {},
   "outputs": [
    {
     "name": "stdout",
     "output_type": "stream",
     "text": [
      "1 -> 2 -> 4 -> 5 -> "
     ]
    }
   ],
   "source": [
    "# Time complexity: O(n), where 'n' is the size of the input linked list\n",
    "# Space complexity: O(1), only constant additional space is used.\n",
    "\n",
    "def removeNthFromEnd(lst, n):\n",
    "    # Calculate the length of the linked list.\n",
    "    lstLen = length(lst)\n",
    "\n",
    "    # Check for invalid values of 'n'.\n",
    "    if n == 0 or n > lstLen:\n",
    "        return lst\n",
    "    elif n == lstLen:\n",
    "        # If 'n' is equal to the length of the list, remove the first node.\n",
    "        lst = lst.next\n",
    "    else:\n",
    "        # Traverse the list to the node before the one to be removed.\n",
    "        current = lst\n",
    "        j = 0\n",
    "        while j < (lstLen-n-1):\n",
    "            current = current.next\n",
    "            j += 1\n",
    "        \n",
    "        # Remove the nth node by updating the next pointer.\n",
    "        current.next = current.next.next\n",
    "    \n",
    "    # Return the head of the updated linked list\n",
    "    return lst\n",
    "\n",
    "# Driver code\n",
    "lst = Node(1, Node(2, Node(3, Node(4, Node(5)))))\n",
    "n = 3\n",
    "result = removeNthFromEnd(lst, n)\n",
    "traverse(result)"
   ]
  },
  {
   "cell_type": "markdown",
   "metadata": {},
   "source": [
    "**Problem 6:** Remove duplicates from a sorted linked list.\n",
    "\n",
    "**Solution:**"
   ]
  },
  {
   "cell_type": "code",
   "execution_count": 74,
   "metadata": {},
   "outputs": [
    {
     "name": "stdout",
     "output_type": "stream",
     "text": [
      "1 -> 2 -> 3 -> 4 -> 5 -> "
     ]
    }
   ],
   "source": [
    "# Time complexity: O(n), where 'n' is the size of the input linked list.\n",
    "# Space complexity: O(1), only constant additional space is used.\n",
    "\n",
    "def remove_duplicates(lst):\n",
    "    # Create a dummy node to represent the begining of the updated linked list.\n",
    "    dummy = Node(0)\n",
    "\n",
    "    # Initialize pointers: prev points to the last unique node, and current is used to traverse the list.\n",
    "    prev, current = dummy, lst\n",
    "\n",
    "    # Traverse the input linked list.\n",
    "    while current:\n",
    "        # Check if the data of the current node is different from the previous unique node.\n",
    "        if current.data != prev.data:\n",
    "            # If different, update the next pointer of the previous node to the current node.\n",
    "            prev.next = current\n",
    "            # Update the previous pointer to the current node.\n",
    "            prev = prev.next\n",
    "        \n",
    "        # Move to the next node in the input linked list.\n",
    "        current = current.next\n",
    "    \n",
    "    # Set the next pointer of the last unique node to None.\n",
    "    prev.next = None\n",
    "    \n",
    "    # Return the head of the updated linked list (excluding the dummy node).\n",
    "    return dummy.next\n",
    "\n",
    "# Driver code\n",
    "lst = Node(1, Node(1, Node(2, Node(2, Node(3, Node(4, Node(5)))))))\n",
    "result = remove_duplicates(lst)\n",
    "traverse(result)"
   ]
  },
  {
   "cell_type": "markdown",
   "metadata": {},
   "source": [
    "**Problem 7:** Find the intersection of two linked lists\n",
    "\n",
    "**Solution:**"
   ]
  },
  {
   "cell_type": "code",
   "execution_count": 72,
   "metadata": {},
   "outputs": [
    {
     "name": "stdout",
     "output_type": "stream",
     "text": [
      "1 -> 6 -> "
     ]
    }
   ],
   "source": [
    "# Time complexity: O(max(M, N)), where 'M' and 'N' are the size of input linked list1 and list2 respectively.\n",
    "# Space complexity: O(M), where 'M' is the size of the list1\n",
    "\n",
    "def find_intersection(lst1, lst2):\n",
    "    # Create an empty set to store visited nodes.\n",
    "    visited_nodes = set()\n",
    "\n",
    "    # Create a dummy node to represent the begining of the intersection list.\n",
    "    intersection = Node(0)\n",
    "    current = intersection\n",
    "\n",
    "    # Traverse the first linked list (lst1).\n",
    "    while lst1:\n",
    "        # Add the data of each node from lst1 to the set of visited nodes\n",
    "        visited_nodes.add(lst1.data)\n",
    "        lst1 = lst1.next\n",
    "    \n",
    "    # Traverse the second linked list (lst2).\n",
    "    while lst2:\n",
    "        # If the data is found, create a new node in the intersection list and update the current pointer.\n",
    "        if lst2.data in visited_nodes:\n",
    "            current.next = lst2\n",
    "            current = current.next\n",
    "        \n",
    "        # Move to the next node in lst2\n",
    "        lst2 = lst2.next\n",
    "    \n",
    "    # Set the next pointer of the last node in the intersection list to None.\n",
    "    current.next = None\n",
    "\n",
    "    # Return the head of the intersection list (excluding the dummy node).\n",
    "    return intersection.next\n",
    "\n",
    "# Driver code\n",
    "lst1 = Node(1, Node(2, Node(3, Node(4, Node(8, Node(6, Node(9)))))))\n",
    "lst2 = Node(5, Node(1, Node(6, Node(7))))\n",
    "result = find_intersection(lst1, lst2)\n",
    "traverse(result)"
   ]
  },
  {
   "cell_type": "markdown",
   "metadata": {},
   "source": [
    "**Problem 8:** Rotate a linked list by k positions to the right\n",
    "\n",
    "**Solution:**"
   ]
  },
  {
   "cell_type": "code",
   "execution_count": 84,
   "metadata": {},
   "outputs": [
    {
     "name": "stdout",
     "output_type": "stream",
     "text": [
      "5 -> 1 -> 2 -> 3 -> 4 -> "
     ]
    }
   ],
   "source": [
    "# Time complexity: O(n), where 'n' is the size of the input linked list.\n",
    "# Space complexity: O(1), only constant additional space is used.\n",
    "\n",
    "def rotateLinkedLists(lst, k):\n",
    "    # Check for edge cases where rotation is not necessary or not possible.\n",
    "    if lst is None or k <= 0:\n",
    "        return lst\n",
    "    \n",
    "    # Calculate the effective rotation by taking the modulo with the length of the linked list.\n",
    "    k = k % length(lst)\n",
    "\n",
    "    # If the effective rotation is 0, no rotation is needed.\n",
    "    if k == 0:\n",
    "        return lst\n",
    "    \n",
    "    # Initialize pointers: 'current' points to the head of the list, and 'j' is the counter.\n",
    "    current, j = lst, 0\n",
    "\n",
    "    # Traverse the list to the (k-1)th node.\n",
    "    while j < k - 1 and current.next:\n",
    "        current = current.next\n",
    "        j += 1\n",
    "    \n",
    "    # Separate the remaining nodes after rotation.\n",
    "    remaining_nodes = current.next\n",
    "    current.next = None\n",
    "\n",
    "    # Move to the last node of the remaining nodes.\n",
    "    end_node = remaining_nodes\n",
    "    while end_node.next:\n",
    "        end_node = end_node.next\n",
    "    \n",
    "    # Connect the last node of the remaining nodes to the original head.\n",
    "    end_node.next = lst\n",
    "\n",
    "    # Return the head of the rotated linked list.\n",
    "    return remaining_nodes\n",
    "\n",
    "# Driver code\n",
    "lst = Node(1, Node(2, Node(3, Node(4, Node(5)))))\n",
    "k = 4\n",
    "result = rotateLinkedLists(lst, k)\n",
    "traverse(result)\n"
   ]
  },
  {
   "cell_type": "markdown",
   "metadata": {},
   "source": [
    "**Problem 9:** Add two numbers represented by linked lists.\n",
    "\n",
    "**Solution:**"
   ]
  },
  {
   "cell_type": "code",
   "execution_count": 82,
   "metadata": {},
   "outputs": [
    {
     "name": "stdout",
     "output_type": "stream",
     "text": [
      "5 -> 4 -> 2 -> 1 -> "
     ]
    }
   ],
   "source": [
    "# Time complexity: O(max(M, N)), where 'M' and 'N' are the sizes of the input linked list1 and list2\n",
    "# Space complexity: O(max(M, N))\n",
    "\n",
    "def addLinkedListsNumbers(lst1, lst2):\n",
    "    # Create a dummy node to represent the beginning of the result linked list.\n",
    "    dummy = Node(0)\n",
    "    # Initialize 'current' pointer to the dummy node.\n",
    "    current = dummy\n",
    "    # Initialize 'carry' to 0.\n",
    "    carry = 0\n",
    "    \n",
    "    # Continue the loop until there are no more nodes in lst1, lst2, or there's a carry.\n",
    "    while lst1 or lst2 or carry:\n",
    "        # Extract the current digits from lst1 and lst2 (or use 0 if the node is None).\n",
    "        x = lst1.data if lst1 else 0\n",
    "        y = lst2.data if lst2 else 0\n",
    "\n",
    "        # Sum the current digits along with the carry from the previous calculation.\n",
    "        _sum = x + y + carry\n",
    "\n",
    "        # Update carry for the next calculation.\n",
    "        carry = _sum // 10\n",
    "\n",
    "        # Create a new node with the result of the current digit sum and update the 'current' pointer.\n",
    "        current.next = Node(_sum % 10)\n",
    "        current = current.next\n",
    "\n",
    "        # Move to the next nodes in lst1 and lst2 if available.\n",
    "        if lst1:\n",
    "            lst1 = lst1.next\n",
    "        if lst2:\n",
    "            lst2 = lst2.next\n",
    "    \n",
    "    # Return the head of the result linked list (excluding the dummy node).\n",
    "    return dummy.next\n",
    "\n",
    "# Driver code\n",
    "lst1 = Node(9, Node(8, Node(7)))\n",
    "lst2 = Node(6, Node(5, Node(4)))\n",
    "result = addLinkedListsNumbers(lst1, lst2)\n",
    "traverse(result)"
   ]
  },
  {
   "cell_type": "markdown",
   "metadata": {},
   "source": [
    "**Problem 10:** Clone a linked list with next and random pointer\n",
    "\n",
    "**Solution:**"
   ]
  },
  {
   "cell_type": "code",
   "execution_count": 1,
   "metadata": {},
   "outputs": [
    {
     "name": "stdout",
     "output_type": "stream",
     "text": [
      "Data: 1 Arbitrary Data: 3\n",
      "Data: 2 Arbitrary Data: 1\n",
      "Data: 3 Arbitrary Data: 5\n",
      "Data: 4 Arbitrary Data: 3\n",
      "Data: 5 Arbitrary Data: 2\n"
     ]
    }
   ],
   "source": [
    "# Time complexity: O(N), where 'N' is the size of the original linked list.\n",
    "# Space complexity: O(N), where 'N' is the size of the original linked list.\n",
    "\n",
    "class Node:\n",
    "    def __init__(self, data):\n",
    "        self.data = data\n",
    "        self.next = None\n",
    "        self.arbitrary = None\n",
    "\n",
    "def clone_linked_list(head):\n",
    "    if not head:\n",
    "        return None\n",
    "    \n",
    "    # Step 1: Insert copied nodes next to the original nodes\n",
    "    current = head\n",
    "    while current:\n",
    "        copied_node = Node(current.data)\n",
    "        copied_node.next = current.next\n",
    "        current.next = copied_node\n",
    "        current = copied_node.next\n",
    "    \n",
    "    # Step2: Update arbitrary pointers of copied nodes\n",
    "    current = head\n",
    "    while current:\n",
    "        if current.arbitrary:\n",
    "            current.next.arbitrary = current.arbitrary.next\n",
    "        current = current.next.next\n",
    "    \n",
    "    # Step3: Separate original and cloned lists\n",
    "    original_head = head\n",
    "    cloned_head = head.next\n",
    "    cloned_current = cloned_head\n",
    "    while original_head:\n",
    "        original_head.next = original_head.next.next\n",
    "        original_head = original_head.next\n",
    "        if cloned_current.next:\n",
    "            cloned_current.next = cloned_current.next.next\n",
    "            cloned_current = cloned_current.next\n",
    "\n",
    "    return cloned_head\n",
    "\n",
    "# Example usage\n",
    "# Create a sample linked list with arbitrary pointers\n",
    "node1 = Node(1)\n",
    "node2 = Node(2)\n",
    "node3 = Node(3)\n",
    "node4 = Node(4)\n",
    "node5 = Node(5)\n",
    "\n",
    "node1.next = node2\n",
    "node2.next = node3\n",
    "node3.next = node4\n",
    "node4.next = node5\n",
    "\n",
    "node1.arbitrary = node3\n",
    "node2.arbitrary = node1\n",
    "node3.arbitrary = node5\n",
    "node4.arbitrary = node3\n",
    "node5.arbitrary = node2\n",
    "\n",
    "# Clone the linked list\n",
    "cloned_head = clone_linked_list(node1)\n",
    "\n",
    "# Printing cloned list abribtrary pointers for verification\n",
    "current = cloned_head\n",
    "while current:\n",
    "    print(\"Data:\", current.data, \"Arbitrary Data:\", current.arbitrary.data if current.arbitrary else None)\n",
    "    current = current.next"
   ]
  }
 ],
 "metadata": {
  "kernelspec": {
   "display_name": "Python 3",
   "language": "python",
   "name": "python3"
  },
  "language_info": {
   "codemirror_mode": {
    "name": "ipython",
    "version": 3
   },
   "file_extension": ".py",
   "mimetype": "text/x-python",
   "name": "python",
   "nbconvert_exporter": "python",
   "pygments_lexer": "ipython3",
   "version": "3.11.5"
  }
 },
 "nbformat": 4,
 "nbformat_minor": 2
}
