{
 "cells": [
  {
   "cell_type": "markdown",
   "metadata": {},
   "source": [
    "### **Time complexity:**"
   ]
  },
  {
   "cell_type": "markdown",
   "metadata": {},
   "source": [
    "**Problem 1:**"
   ]
  },
  {
   "cell_type": "code",
   "execution_count": 1,
   "metadata": {},
   "outputs": [],
   "source": [
    "def quicksort(arr):\n",
    "    if len(arr) <= 1:\n",
    "        return arr\n",
    "    pivot = arr[len(arr) // 2]\n",
    "    left = [x for x in arr if x < pivot]\n",
    "    middle = [x for x in arr if x == pivot]\n",
    "    right = [x for x in arr if x > pivot]\n",
    "    return quicksort(left) + middle + quicksort(right)"
   ]
  },
  {
   "cell_type": "markdown",
   "metadata": {},
   "source": [
    "**Solution:** The time complexity of the provided quicksort implementation is O(nlogn) on average and in the best case, while in the worst case, it is O(n^2)."
   ]
  },
  {
   "cell_type": "markdown",
   "metadata": {},
   "source": [
    "**Poblem 2:**"
   ]
  },
  {
   "cell_type": "code",
   "execution_count": 2,
   "metadata": {},
   "outputs": [],
   "source": [
    "def nested_loop_example(matrix):\n",
    "    rows, cols = len(matrix), len(matrix[0])\n",
    "    total = 0\n",
    "    for i in range(rows):\n",
    "        for j in range(cols):\n",
    "            total += matrix[i][j]\n",
    "    return total"
   ]
  },
  {
   "cell_type": "markdown",
   "metadata": {},
   "source": [
    "**Solution:** The time complexity of this given function will be O(m*n), where 'm' and 'n' are the size of the rows and columns of the input matrix."
   ]
  },
  {
   "cell_type": "markdown",
   "metadata": {},
   "source": [
    "**Problem 3:**"
   ]
  },
  {
   "cell_type": "code",
   "execution_count": 3,
   "metadata": {},
   "outputs": [],
   "source": [
    "def example_function(arr):\n",
    "    result = 0\n",
    "    for element in arr:\n",
    "        result += element\n",
    "    return result"
   ]
  },
  {
   "cell_type": "markdown",
   "metadata": {},
   "source": [
    "**Solution:** The time complexity of this given function is O(n), where 'n' is the size of the input array."
   ]
  },
  {
   "cell_type": "markdown",
   "metadata": {},
   "source": [
    "**Problem 4:**"
   ]
  },
  {
   "cell_type": "code",
   "execution_count": null,
   "metadata": {},
   "outputs": [],
   "source": [
    "def longest_increasing_subsequence(nums):\n",
    "    n = len(nums)\n",
    "    lis = [1]*n\n",
    "    for i in range(1, n):\n",
    "        for j in range(0, i):\n",
    "            if nums[i] > nums[j] and lis[i] < lis[j]+1:\n",
    "                lis[i] = lis[j]+1\n",
    "    return max(lis)"
   ]
  },
  {
   "cell_type": "markdown",
   "metadata": {},
   "source": [
    "**Solution:** The time complexity of this given function will be O(n^2), where 'n' is the the size of the input array."
   ]
  },
  {
   "cell_type": "markdown",
   "metadata": {},
   "source": [
    "**Problem 5:**"
   ]
  },
  {
   "cell_type": "code",
   "execution_count": null,
   "metadata": {},
   "outputs": [],
   "source": [
    "def mysterious_function(arr):\n",
    "    n = len(arr)\n",
    "    result = 0\n",
    "    for i in range(n):\n",
    "        for j in range(i, n):\n",
    "            result += arr[i] * arr[j]\n",
    "    return result"
   ]
  },
  {
   "cell_type": "markdown",
   "metadata": {},
   "source": [
    "**Solution:** The time complexity of this given function will be O(n^2), where 'n' is the the size of the input array."
   ]
  },
  {
   "cell_type": "markdown",
   "metadata": {},
   "source": [
    "### **Recursion:**"
   ]
  },
  {
   "cell_type": "markdown",
   "metadata": {},
   "source": [
    "**Problem 6:** Write a recursive function to calculate the sum of digits of a given positive integer.\n",
    "\n",
    "**Solution:**"
   ]
  },
  {
   "cell_type": "code",
   "execution_count": 8,
   "metadata": {},
   "outputs": [
    {
     "name": "stdout",
     "output_type": "stream",
     "text": [
      "15\n"
     ]
    }
   ],
   "source": [
    "def sum_of_digits(num):\n",
    "    # Check if the input number is negative or a float\n",
    "    if num < 0 or isinstance(num, float):\n",
    "        return \"Error: Please enter a positive integer\"\n",
    "    # Check if the input number is a single digit\n",
    "    elif 0 <= num < 10:\n",
    "        return num\n",
    "    else:\n",
    "        # If the number has more than one digit, compute the sum of its digits recursively\n",
    "        return (num % 10) + sum_of_digits(num // 10)\n",
    "\n",
    "# Driver code\n",
    "result = sum_of_digits(12345)\n",
    "print(result)"
   ]
  },
  {
   "cell_type": "markdown",
   "metadata": {},
   "source": [
    "**Problem 7:** Write a recursive function to generate the first n numbers of the Fibonacci series.\n",
    "\n",
    "**Solution:**"
   ]
  },
  {
   "cell_type": "code",
   "execution_count": 5,
   "metadata": {},
   "outputs": [
    {
     "data": {
      "text/plain": [
       "[0, 1, 1, 2, 3]"
      ]
     },
     "execution_count": 5,
     "metadata": {},
     "output_type": "execute_result"
    }
   ],
   "source": [
    "# Recursive function to generate the first n numbers of Fibonacci series.\n",
    "def fibonacci_series(n, prev=0, curr=1, fibo_lst=None):\n",
    "    # Initialize an empty list for the Fibonacci series if not provided\n",
    "    if not fibo_lst:\n",
    "        fibo_lst = []\n",
    "    \n",
    "    # Base case: return the Fibonacci sereies if n is 0.\n",
    "    if n == 0:\n",
    "        return fibo_lst\n",
    "    \n",
    "    # Base case: return the Fibonacci series with the first term if n is 1\n",
    "    elif n == 1:\n",
    "        fibo_lst.append(prev)\n",
    "        return fibo_lst\n",
    "    \n",
    "    # Recursive case: generate next term, add the prev term in the series and, call the function recursivley \n",
    "    else:\n",
    "        fibo_lst.append(prev)\n",
    "        next = prev + curr\n",
    "        return fibonacci_series(n-1, curr, next, fibo_lst)\n",
    "\n",
    "# Driver code: generate the Fibonacci series up to the 5th term\n",
    "fibonacci_series(5)"
   ]
  },
  {
   "cell_type": "markdown",
   "metadata": {},
   "source": [
    "**Problem 8:** Given a set of positive integers and a target sum, write a recursive function to determine if there exists a subset of the integers that adds up to the target sum.\n",
    "\n",
    "**Solution 8:**"
   ]
  },
  {
   "cell_type": "code",
   "execution_count": 50,
   "metadata": {},
   "outputs": [
    {
     "name": "stdout",
     "output_type": "stream",
     "text": [
      "True\n"
     ]
    }
   ],
   "source": [
    "# Recusive function to check if there is a subset with the given sum\n",
    "def subset_sum(nums, target, i=0):\n",
    "    # Base case: If we reach the end of the list, return False\n",
    "    if i > len(nums)-2:\n",
    "        return False\n",
    "    \n",
    "    # Calculate the componenet for the current element\n",
    "    complement = target - nums[i]\n",
    "\n",
    "    # Check if the complement exists in the remaining elements\n",
    "    return True if complement in nums[i+1:] else subset_sum(nums[i:], target, i+1)\n",
    "\n",
    "# Driver code\n",
    "given_nums = [1, 2, 3, 4, 5]\n",
    "target_val = 9\n",
    "result = subset_sum(given_nums, target_val)\n",
    "print(result)"
   ]
  },
  {
   "cell_type": "markdown",
   "metadata": {},
   "source": [
    "**Problem 9:** Given a non-empty string and a dictionary of words, write a recursive function to determine if the string can be segmented into a space-separated sequence of dicitionary words.\n",
    "\n",
    "**Solution:**"
   ]
  },
  {
   "cell_type": "code",
   "execution_count": 7,
   "metadata": {},
   "outputs": [
    {
     "name": "stdout",
     "output_type": "stream",
     "text": [
      "True\n"
     ]
    }
   ],
   "source": [
    "def wordBreak(word, word_lst):\n",
    "    # Base case: If the word is empty, return True\n",
    "    if word == '':\n",
    "        return True\n",
    "    \n",
    "    # Iterate through each possible prefix of the word\n",
    "    for i in range(1, len(word)+1):\n",
    "        # If the prefix exists in the word list and the remaining suffix can also be segmented,\n",
    "        # return True\n",
    "        if word[:i] in word_lst and wordBreak(word[i:], word_lst):\n",
    "            return True\n",
    "    \n",
    "    # If no segmentation found, return False\n",
    "    return False\n",
    "\n",
    "# Driver code\n",
    "word = \"DataStructuresAndAlgorithm\"\n",
    "word_lst = ['Data', 'Algorithm', 'Structures', 'And']\n",
    "result = wordBreak(word, word_lst)\n",
    "print(result)"
   ]
  },
  {
   "cell_type": "markdown",
   "metadata": {},
   "source": [
    "**Problem 10:**"
   ]
  },
  {
   "cell_type": "code",
   "execution_count": 6,
   "metadata": {},
   "outputs": [
    {
     "name": "stdout",
     "output_type": "stream",
     "text": [
      "0 1 0 0 \n",
      "0 0 0 1 \n",
      "1 0 0 0 \n",
      "0 0 1 0 \n",
      "\n",
      "0 0 1 0 \n",
      "1 0 0 0 \n",
      "0 0 0 1 \n",
      "0 1 0 0 \n",
      "\n"
     ]
    }
   ],
   "source": [
    "def is_safe(board, row, col, N):\n",
    "    # Check if there is a queen in the same column\n",
    "    for i in range(row):\n",
    "        if board[i][col] == 1:\n",
    "            return False\n",
    "    \n",
    "    # Check upper left diagonal\n",
    "    for i, j in zip(range(row, -1, -1), range(col, -1, -1)):\n",
    "        if board[i][j] == 1:\n",
    "            return False\n",
    "    \n",
    "    # Check upper right diagonal\n",
    "    for i, j in zip(range(row, -1,\n",
    "                           -1), range(col, N)):\n",
    "        if board[i][j] == 1:\n",
    "            return False\n",
    "    \n",
    "    return True\n",
    "\n",
    "def solve_n_queens_util(board, row, N):\n",
    "    if row == N:\n",
    "        # All the queens are places successfully, print the solution\n",
    "        for i in range(N):\n",
    "            for j in range(N):\n",
    "                print(board[i][j], end=' ')\n",
    "            print()\n",
    "        print()\n",
    "        return\n",
    "    \n",
    "    for col in range(N):\n",
    "        if is_safe(board, row, col, N):\n",
    "            # Place queen and move to the next row\n",
    "            board[row][col] = 1\n",
    "            solve_n_queens_util(board, row+1, N)\n",
    "\n",
    "            # Backtracking: remove the queen if the current placement doesn't lead to a solution\n",
    "            board[row][col] = 0\n",
    "\n",
    "def solve_n_queens(N):\n",
    "    # Initialize the chessboard\n",
    "    board = [[0 for _ in range(N)] for _ in range(N)]\n",
    "    solve_n_queens_util(board, 0, N)\n",
    "\n",
    "# Example: Solve the 8 queens problem\n",
    "solve_n_queens(4)"
   ]
  }
 ],
 "metadata": {
  "kernelspec": {
   "display_name": "Python 3",
   "language": "python",
   "name": "python3"
  },
  "language_info": {
   "codemirror_mode": {
    "name": "ipython",
    "version": 3
   },
   "file_extension": ".py",
   "mimetype": "text/x-python",
   "name": "python",
   "nbconvert_exporter": "python",
   "pygments_lexer": "ipython3",
   "version": "3.11.5"
  }
 },
 "nbformat": 4,
 "nbformat_minor": 2
}
